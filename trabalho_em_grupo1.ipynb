{
  "cells": [
    {
      "cell_type": "markdown",
      "metadata": {
        "id": "view-in-github",
        "colab_type": "text"
      },
      "source": [
        "<a href=\"https://colab.research.google.com/github/IsabelaAthayde/fuels-price-analysis/blob/main/trabalho_em_grupo1.ipynb\" target=\"_parent\"><img src=\"https://colab.research.google.com/assets/colab-badge.svg\" alt=\"Open In Colab\"/></a>"
      ]
    },
    {
      "cell_type": "markdown",
      "source": [
        "<font color=\"red\" size=\"7rem\"> Perguntas a serem respondidas </font>\n",
        "\n",
        "*<font color=\"red\" size=\"5rem\"> Isabela:</font>\n",
        "1. Como se comportaram o preço dos combustíveis durante os dois meses citados? Os valores do\n",
        "etanol e da gasolina tiveram uma tendência de queda ou diminuição?\n",
        "2. Qual o preço médio da gasolina e do etanol nesses dois meses?\n",
        "3. Quais os 5 estados com o preço médio da gasolina e do etanol mais caros?\n",
        "------\n",
        "* <font color=\"red\" size=\"5rem\">Ilma:</font>\n",
        "4. Qual o preço médio da gasolina e do etanol por estado?\n",
        "5. Qual o município que possui o menor preço para a gasolina e para o etanol?\n",
        "6. Qual o município que possui o maior preço para a gasolina e para o etanol?\n",
        "-----\n",
        "* <font color=\"red\" size=\"5rem\">Gabriel:</font>\n",
        "7. Qual a região que possui o maior valor médio da gasolina?\n",
        "8. Qual a região que possui o menor valor médio do etanol?\n",
        "9. Há alguma correlação entre o valor do combustível (gasolina e etanol) e a região onde ele é vendido?\n",
        "-----\n",
        "* <font color=\"red\" size=\"5rem\">Albino:</font>\n",
        "10. Há alguma correlação entre o valor do combustível (gasolina e etanol) e a bandeira que vende ele?\n",
        "11. Qual a média entre a Gasolina comum e a gasolina aditivada nesse período?\n",
        "-----\n",
        "* <font color=\"red\" size=\"5rem\">Debora:</font>\n",
        "12. Qual é a variação percentual dos preços da gasolina e do etanol em cada estado durante os dois meses citados?\n",
        "13. Qual é a relação entre o preço médio da gasolina e do etanol e o IDH (Índice de Desenvolvimento Humano) de cada estado?"
      ],
      "metadata": {
        "id": "nJuZgJn1FQDc"
      }
    },
    {
      "cell_type": "markdown",
      "metadata": {
        "id": "Xl22N6EaeXFO"
      },
      "source": [
        "<Font size='15rem' color=\"lightgreen\" /> <center>Projeto em Grupo</center>"
      ]
    },
    {
      "cell_type": "code",
      "execution_count": 1,
      "metadata": {
        "id": "TdKUFftGTk-p"
      },
      "outputs": [],
      "source": [
        "# Adicione  todas as importações aqui\n",
        "\n",
        "import pandas as pd\n",
        "import numpy as np\n",
        "\n",
        "import seaborn as sns\n",
        "\n",
        "import matplotlib.pyplot as plt\n",
        "from matplotlib import cm\n",
        "import matplotlib.colors as mcolors\n",
        "\n",
        "# Para criação de mapa\n",
        "import geopandas as gpd"
      ]
    },
    {
      "cell_type": "markdown",
      "metadata": {
        "id": "zLiqLEeDEY-r"
      },
      "source": [
        "# Verifique se você já possui os arquivos antes de continuar"
      ]
    },
    {
      "cell_type": "markdown",
      "source": [
        " 1. <font color=\"green\" size=\"4rem\"/> Arquivos do df de preços"
      ],
      "metadata": {
        "id": "uqrDo73lpHxi"
      }
    },
    {
      "cell_type": "code",
      "execution_count": 2,
      "metadata": {
        "colab": {
          "base_uri": "https://localhost:8080/"
        },
        "id": "s6iTeaZbEenx",
        "outputId": "4babbacb-9555-4147-f845-c4fd824c3f6c"
      },
      "outputs": [
        {
          "output_type": "stream",
          "name": "stdout",
          "text": [
            "Você já possui os arquivos 'precos-gasolina-etanol-11' e 'precos-gasolina-etanol-12'.\n"
          ]
        }
      ],
      "source": [
        "import os\n",
        "from google.colab import files\n",
        "\n",
        "# Verificar se os arquivos já existem\n",
        "arquivo_11 = '/content/precos-gasolina-etanol-11.csv'\n",
        "arquivo_12 = '/content/precos-gasolina-etanol-12.csv'\n",
        "\n",
        "if not (os.path.exists(arquivo_11) and os.path.exists(arquivo_12)):\n",
        "    print(\"Seu colab não possui os arquivos 'precos-gasolina-etanol-11' e 'precos-gasolina-etanol-12'.\\n\")\n",
        "\n",
        "    # Se o usuário não tiver os arquivos, fornecer links para download\n",
        "    print(\"Clique nos links abaixo para baixar os arquivos:\")\n",
        "\n",
        "    link_11 = 'https://www.gov.br/anp/pt-br/centrais-de-conteudo/dados-abertos/arquivos/shpc/dsan/2023/precos-gasolina-etanol-11.csv'\n",
        "    link_12 = 'https://www.gov.br/anp/pt-br/centrais-de-conteudo/dados-abertos/arquivos/shpc/dsan/2023/precos-gasolina-etanol-12.csv'\n",
        "\n",
        "    print(f\"1. Baixar 'precos-gasolina-etanol-11': {link_11}\")\n",
        "    print(f\"2. Baixar 'precos-gasolina-etanol-12': {link_12}\")\n",
        "    print('\\n-------------------------------------------\\n')\n",
        "    print('Ou Caso já possua os arquivos na sua máquina, selecione os arquivos:')\n",
        "\n",
        "    uploaded = files.upload()\n",
        "    # Após o upload, os arquivos podem ser manipulados no ambiente do Colab\n",
        "else:\n",
        "    print(\"Você já possui os arquivos 'precos-gasolina-etanol-11' e 'precos-gasolina-etanol-12'.\")\n"
      ]
    },
    {
      "cell_type": "markdown",
      "source": [
        "2. <font color=\"green\" size=\"4rem\"/>  Arquivo para o mapa do Brasil\n",
        "\n"
      ],
      "metadata": {
        "id": "HBbs-C8rpMQR"
      }
    },
    {
      "cell_type": "code",
      "source": [
        "import os\n",
        "from google.colab import files\n",
        "\n",
        "# Verificar se os arquivos já existem\n",
        "arquivos = ['/content/estados_2010.dbf', '/content/estados_2010.prj', '/content/estados_2010.qpj', '/content/estados_2010.shp', '/content/estados_2010.shx']\n",
        "\n",
        "# Verificar se todos os arquivos existem\n",
        "todos_existem = all(os.path.exists(arquivo) for arquivo in arquivos)\n",
        "\n",
        "if (todos_existem):\n",
        "    print(\"Você possuí todos os arquivos necessários no colab para rodar os mapas\")\n",
        "else:\n",
        "  for arq in arquivos:\n",
        "    if not (os.path.exists(arq)):\n",
        "        print(\"Você não possuí o arquivo\", arq)\n",
        "\n",
        "  print(f\"\\n1. Por favor acesse o link do drive e baixe os arquivos que faltam \")\n",
        "  print('https://docs.google.com/file/d/0B__Rg9h09RtfQU9jbEpxcW9xREk/edit?pli=1')\n",
        "  print(f\"2. Extraia os arquivos do zip/winrar, pegue os arquivos da pasta estados_2010 e o coloque todos eles dentro do colab\")\n",
        "  print('-------------------------------------------')\n",
        "\n"
      ],
      "metadata": {
        "id": "Oj--xLmMpP_O",
        "colab": {
          "base_uri": "https://localhost:8080/"
        },
        "outputId": "4dc83ebd-850a-4c64-8b55-a1c8c15cea1e"
      },
      "execution_count": null,
      "outputs": [
        {
          "output_type": "stream",
          "name": "stdout",
          "text": [
            "Você não possuí o arquivo /content/estados_2010.dbf\n",
            "Você não possuí o arquivo /content/estados_2010.prj\n",
            "Você não possuí o arquivo /content/estados_2010.qpj\n",
            "Você não possuí o arquivo /content/estados_2010.shp\n",
            "Você não possuí o arquivo /content/estados_2010.shx\n",
            "\n",
            "1. Por favor acesse o link do drive e baixe os arquivos que faltam \n",
            "https://docs.google.com/file/d/0B__Rg9h09RtfQU9jbEpxcW9xREk/edit?pli=1\n",
            "2. Extraia os arquivos do zip/winrar, pegue os arquivos da pasta estados_2010 e o coloque todos eles dentro do colab\n",
            "-------------------------------------------\n"
          ]
        }
      ]
    },
    {
      "cell_type": "markdown",
      "metadata": {
        "id": "3Rd83vk8eRaV"
      },
      "source": [
        "# Recebendo os arquivos reais e concatenando"
      ]
    },
    {
      "cell_type": "code",
      "execution_count": null,
      "metadata": {
        "id": "Q0mi6oXPX4_K"
      },
      "outputs": [],
      "source": [
        "# Arquivos dos dois últimos meses de 2023\n",
        "nov = pd.read_csv('precos-gasolina-etanol-11.csv', sep=';')\n",
        "dez = pd.read_csv('precos-gasolina-etanol-12.csv', sep=';')\n",
        "\n",
        "# Junta os dois DataFrames\n",
        "df = pd.concat([nov, dez])\n",
        "\n",
        "# Visualize as primeiras linhas do DataFrame\n",
        "display(df)"
      ]
    },
    {
      "cell_type": "markdown",
      "source": [
        "# Tratamentos"
      ],
      "metadata": {
        "id": "E8SlOu4uj4w-"
      }
    },
    {
      "cell_type": "markdown",
      "source": [
        "- <font color = \"darkblue\"> Removendo nulos da coluna valor de compra"
      ],
      "metadata": {
        "id": "M2nsmgmBqQl9"
      }
    },
    {
      "cell_type": "code",
      "source": [
        "df.drop(columns=['Valor de Compra'], inplace=True)"
      ],
      "metadata": {
        "id": "IV6pv5fnj-Qv"
      },
      "execution_count": 4,
      "outputs": []
    },
    {
      "cell_type": "markdown",
      "source": [
        "- <font color = \"darkblue\"> Transformando a data de object para datetime"
      ],
      "metadata": {
        "id": "Bwmu6CN8knTc"
      }
    },
    {
      "cell_type": "code",
      "source": [
        "df['Data da Coleta'] = pd.to_datetime(df['Data da Coleta'], format='%d/%m/%Y')"
      ],
      "metadata": {
        "id": "HUOgc7QPsTUR"
      },
      "execution_count": 5,
      "outputs": []
    },
    {
      "cell_type": "markdown",
      "source": [
        "- <font color = \"darkblue\"> mudar valor de venda object type para float"
      ],
      "metadata": {
        "id": "0f658PXhu6OI"
      }
    },
    {
      "cell_type": "code",
      "source": [
        "df['Valor de Venda'] = df['Valor de Venda'].apply(lambda x: float(x.replace(',', '.')) if isinstance(x, str) else x)"
      ],
      "metadata": {
        "id": "Ou6fzvTpFABz"
      },
      "execution_count": 7,
      "outputs": []
    },
    {
      "cell_type": "code",
      "source": [
        "# Converter a coluna 'Valor de Venda' para tipo numérico (float)\n",
        "df['Valor de Venda'] = pd.to_numeric(df['Valor de Venda'], errors='coerce')"
      ],
      "metadata": {
        "id": "JASzZtsM3dp2"
      },
      "execution_count": 9,
      "outputs": []
    },
    {
      "cell_type": "markdown",
      "source": [
        "- <font color = \"darkblue\"> Verificando valores nulos em todo o DataFrame\n",
        "<!-- -!Visualizar boxplots é uma maneira eficaz de identificar outliers -->"
      ],
      "metadata": {
        "id": "q_tW4Yg9C-oI"
      }
    },
    {
      "cell_type": "markdown",
      "source": [
        "- <font color = \"darkblue\">Verificar valores nulos em todo o DataFrame"
      ],
      "metadata": {
        "id": "YNsjOGFK4N_L"
      }
    },
    {
      "cell_type": "code",
      "source": [
        "\n",
        "valores_nulos_totais = df.isnull()\n",
        "\n",
        "# Exibir o DataFrame de booleanos (True para valores nulos, False para valores não nulos)\n",
        "print(valores_nulos_totais)"
      ],
      "metadata": {
        "id": "1cUwWoSyD1q_",
        "colab": {
          "base_uri": "https://localhost:8080/"
        },
        "outputId": "3e3fcd57-2a6a-44a7-fad0-341af06365d8"
      },
      "execution_count": 10,
      "outputs": [
        {
          "output_type": "stream",
          "name": "stdout",
          "text": [
            "       Regiao - Sigla  Estado - Sigla  Municipio  Revenda  CNPJ da Revenda  \\\n",
            "0               False           False      False    False            False   \n",
            "1               False           False      False    False            False   \n",
            "2               False           False      False    False            False   \n",
            "3               False           False      False    False            False   \n",
            "4               False           False      False    False            False   \n",
            "...               ...             ...        ...      ...              ...   \n",
            "24513           False           False      False    False            False   \n",
            "24514           False           False      False    False            False   \n",
            "24515           False           False      False    False            False   \n",
            "24516           False           False      False    False            False   \n",
            "24517           False           False      False    False            False   \n",
            "\n",
            "       Nome da Rua  Numero Rua  Complemento  Bairro    Cep  Produto  \\\n",
            "0            False       False        False   False  False    False   \n",
            "1            False       False        False   False  False    False   \n",
            "2            False       False        False   False  False    False   \n",
            "3            False       False         True   False  False    False   \n",
            "4            False       False         True   False  False    False   \n",
            "...            ...         ...          ...     ...    ...      ...   \n",
            "24513        False       False         True   False  False    False   \n",
            "24514        False       False         True   False  False    False   \n",
            "24515        False       False         True   False  False    False   \n",
            "24516        False       False         True   False  False    False   \n",
            "24517        False       False         True   False   True     True   \n",
            "\n",
            "       Data da Coleta  Valor de Venda  Unidade de Medida  Bandeira  \n",
            "0               False           False              False     False  \n",
            "1               False           False              False     False  \n",
            "2               False           False              False     False  \n",
            "3               False           False              False     False  \n",
            "4               False           False              False     False  \n",
            "...               ...             ...                ...       ...  \n",
            "24513           False           False              False     False  \n",
            "24514           False           False              False     False  \n",
            "24515           False           False              False     False  \n",
            "24516           False           False              False     False  \n",
            "24517            True            True               True      True  \n",
            "\n",
            "[77061 rows x 15 columns]\n"
          ]
        }
      ]
    },
    {
      "cell_type": "markdown",
      "source": [
        "- <font color = \"darkblue\">Verificando se há duplicatas"
      ],
      "metadata": {
        "id": "e_8Gt-nDCRJJ"
      }
    },
    {
      "cell_type": "code",
      "source": [
        "#Se todas as entradas são False, isso significa que não há duplicatas no DataFrame.\n",
        "duplicatas = df.duplicated()\n",
        "print(duplicatas)"
      ],
      "metadata": {
        "id": "iZJ9a7KWCWxJ",
        "colab": {
          "base_uri": "https://localhost:8080/"
        },
        "outputId": "f8806960-89e0-4b31-9600-3fdd449c6b71"
      },
      "execution_count": 11,
      "outputs": [
        {
          "output_type": "stream",
          "name": "stdout",
          "text": [
            "0        False\n",
            "1        False\n",
            "2        False\n",
            "3        False\n",
            "4        False\n",
            "         ...  \n",
            "24513    False\n",
            "24514    False\n",
            "24515    False\n",
            "24516    False\n",
            "24517    False\n",
            "Length: 77061, dtype: bool\n"
          ]
        }
      ]
    },
    {
      "cell_type": "markdown",
      "source": [
        "-----------------------------------------------------------"
      ],
      "metadata": {
        "id": "LjgDWWjzoVky"
      }
    },
    {
      "cell_type": "markdown",
      "source": [
        "# <font color = \"lightgreen\"> 1- Como se comportaram o preço dos combustíveis durante os dois meses citados? Os valores do etanol e da gasolina tiveram uma tendência de queda ou aumento?"
      ],
      "metadata": {
        "id": "btluTwk-C2O7"
      }
    },
    {
      "cell_type": "markdown",
      "source": [
        "Todos os três tipos de combutíveis apresentaram uma tendência de queda durante os dois meses analisados.\n",
        "\n",
        "* O preço da gasolina durante esse tempo foi em média 5,67 reais no início de novembro para 5,61 reais no final de dezembro, sua queda foi de -1,15%.\n",
        "\n",
        "* O preço da gasolina aditivada durante esse período foi em média 5,85 reais no início de novembro para 5,80 reais no final de dezembro, sua queda foi de -0,82%.\n",
        "\n",
        "* O preço da etanol durante esse tempo foi em média 3,88 reais no início de novembro para 3,72 reais no final de dezembro, sua queda foi de -4,05%."
      ],
      "metadata": {
        "id": "q08eL59ARbRM"
      }
    },
    {
      "cell_type": "code",
      "source": [
        "# Defini a primeira semana de novembro como semana 1\n",
        "df['Semana'] = (df['Data da Coleta'].dt.isocalendar().week - 44) % 52 + 1\n",
        "\n",
        "# Cálculo da média semanal para cada produto\n",
        "media_semanal = df.groupby(['Produto', 'Semana'])['Valor de Venda'].mean().reset_index()\n",
        "\n",
        "# Junta os dados dos três produtos em um único dataframe\n",
        "dados_semanais = pd.concat([media_semanal[media_semanal['Produto'] == produto] for produto in ['GASOLINA ADITIVADA', 'GASOLINA', 'ETANOL']])\n",
        "dados_semanais.sort_index(ascending=True, inplace=True)"
      ],
      "metadata": {
        "id": "Wc7d3JHinu8L"
      },
      "execution_count": null,
      "outputs": []
    },
    {
      "cell_type": "code",
      "source": [
        "# Dividi os dados como antes e depois da quinta semana\n",
        "df_preco_alto = dados_semanais[dados_semanais['Semana'] <= 5]\n",
        "df_preco_baixo = dados_semanais[dados_semanais['Semana'] >= 5]\n",
        "\n",
        "\n",
        "# Paletas personalizadas\n",
        "nov_palette = ['#00FF87','#0078FF','#045959']\n",
        "dez_palette = ['#FF0078','#FF8700','#C00500']\n",
        "\n",
        "# Remove duplicatas geradas na mudança de cor\n",
        "produtos = df_preco_alto['Produto'].unique()\n",
        "\n",
        "plt.figure(figsize=(10, 6))\n",
        "\n",
        "for i, produto in enumerate(produtos):\n",
        "    sns.lineplot(x='Semana', y='Valor de Venda', data=df_preco_alto[df_preco_alto['Produto'] == produto], color=nov_palette[i], label=produto, linewidth=2.5, marker='o')\n",
        "    sns.lineplot(x='Semana', y='Valor de Venda', data=df_preco_baixo[df_preco_baixo['Produto'] == produto], color=dez_palette[i], label=None, linewidth=2.5, marker='o')\n",
        "\n",
        "# Altera os rótulos do eixo x pra meses\n",
        "plt.xticks(ticks=[3, 7], labels=['Novembro', 'Dezembro'])\n",
        "plt.xlabel('Data da Coleta')\n",
        "plt.ylabel('Valor de Venda (R$ / litro)')\n",
        "\n",
        "# Defini o range min e max\n",
        "plt.ylim(3.5, 6.2)\n",
        "plt.show()"
      ],
      "metadata": {
        "id": "7B-foyKD0UP2"
      },
      "execution_count": null,
      "outputs": []
    },
    {
      "cell_type": "markdown",
      "source": [
        "# <font color = \"lightgreen\"> 2- Qual o preço médio da gasolina e do etanol nesses dois meses?"
      ],
      "metadata": {
        "id": "lKf5AKkwLVmT"
      }
    },
    {
      "cell_type": "markdown",
      "source": [
        "O preço médio do etanol teve uma queda de aproximadamente 1.82%, indicando uma diminuição mais acentuada nos valores médios durante os dois meses.\n",
        "\n",
        "A gasolina, por outro lado, apresentou uma queda mais leve na faixa de 0.70% nos preços médios.\n",
        "\n",
        "Ou seja, o etanol teve uma variação percentual mais significativa em comparação com a gasolina nos dois meses, o que pode indicar influências específicas para o etanol durante esse período."
      ],
      "metadata": {
        "id": "h6iJqTRjUbkA"
      }
    },
    {
      "cell_type": "code",
      "source": [
        "gas_nov = df[(df['Produto'] == 'GASOLINA') & (df['Data da Coleta'] >= '2023/11/01') & (df['Data da Coleta'] <= '2023/11/30') ]\n",
        "gas_dez = df[(df['Produto'] == 'GASOLINA') & (df['Data da Coleta'] >= '2023/12/01') & (df['Data da Coleta'] <= '2023/12/30') ]\n",
        "\n",
        "eta_nov = df[(df['Produto'] == 'ETANOL') & (df['Data da Coleta'] >= '2023/11/01') & (df['Data da Coleta'] <= '2023/11/30') ]\n",
        "eta_dez = df[(df['Produto'] == 'ETANOL') & (df['Data da Coleta'] >= '2023/12/01') & (df['Data da Coleta'] <= '2023/12/30') ]\n",
        "\n",
        "# Calculando a média\n",
        "media_gas_nov = gas_nov['Valor de Venda'].mean()\n",
        "media_gas_dez = gas_dez['Valor de Venda'].mean()\n",
        "\n",
        "media_eta_nov = eta_nov['Valor de Venda'].mean()\n",
        "media_eta_dez = eta_dez['Valor de Venda'].mean()"
      ],
      "metadata": {
        "id": "84yzSK5unRn3"
      },
      "execution_count": null,
      "outputs": []
    },
    {
      "cell_type": "code",
      "source": [
        "# Defini os valores a serem usados no eixo x\n",
        "produtos = ['ETANOL', 'GASOLINA']\n",
        "\n",
        "# Defini a largura das barras\n",
        "bar_largura = 0.30\n",
        "\n",
        "# Defini a posição das barras de acordo com a largura predefinida\n",
        "bar_m11 = np.arange(len(produtos))\n",
        "bar_m12 = [x + bar_largura for x in bar_m11]\n",
        "\n",
        "plt.figure(figsize=(8, 5))\n",
        "\n",
        "# Cria o grafico de barras\n",
        "plt.bar(bar_m11, [media_eta_nov, media_gas_nov], color=cm.viridis(0.3), width=0.30, label='Novembro')\n",
        "plt.bar(bar_m12, [media_eta_dez, media_gas_dez], color=cm.viridis(0.6), width=0.30, label='Dezembro')\n",
        "\n",
        "# Adiciona os valores nas barras\n",
        "for i in range(len(bar_m11)):\n",
        "    plt.text(x = bar_m11[i]-0.05 , y = [media_eta_nov, media_gas_nov][i]+0.1, s = format([media_eta_nov, media_gas_nov][i], '.2f'), size = 10)\n",
        "    plt.text(x = bar_m12[i]-0.05 , y = [media_eta_dez, media_gas_dez][i]+0.1, s = format([media_eta_dez, media_gas_dez][i], '.2f'), size = 10, color='red')\n",
        "\n",
        "# Adiciona os rótulos ao eixo x\n",
        "plt.xlabel('Produto', fontsize=12)\n",
        "plt.xticks([r + bar_largura/2 for r in range(len(produtos))], produtos)\n",
        "\n",
        "# Adiciona o rótulo ao eixo y\n",
        "plt.ylabel('Valor de Venda (R$ / litro)')\n",
        "plt.ylim(0, 7)\n",
        "\n",
        "# Adiciona margem no gráfico\n",
        "plt.margins(x=0.3, y=0.3)\n",
        "\n",
        "# Cria a legenda\n",
        "plt.legend(loc='upper left')\n",
        "\n",
        "# Mostra o gráfico\n",
        "plt.show()\n"
      ],
      "metadata": {
        "id": "PIzPADo_e4nC",
        "colab": {
          "base_uri": "https://localhost:8080/",
          "height": 474
        },
        "outputId": "09360179-09f5-4648-b1ac-c01ad8aa3443"
      },
      "execution_count": null,
      "outputs": [
        {
          "output_type": "display_data",
          "data": {
            "text/plain": [
              "<Figure size 800x500 with 1 Axes>"
            ],
            "image/png": "[encoded data removed]"
          },
          "metadata": {}
        }
      ]
    },
    {
      "cell_type": "markdown",
      "source": [
        "# <font color = \"lightgreen\"> 3- Quais os 5 estados com o preço médio da gasolina e do etanol mais caros?\n"
      ],
      "metadata": {
        "id": "Qghz8DjTLf_7"
      }
    },
    {
      "cell_type": "markdown",
      "source": [
        "O Mapa de calor feito com geopandas com base no mapa do Brasil.\n",
        "\n",
        "<font color=\"red\" size=\"3rem\">Para prosseguir serão necessários alguns arquivos da pasta estados_2010 que foram pedidos no tópico de **Verificação**</font>"
      ],
      "metadata": {
        "id": "yERsW-tfmHEz"
      }
    },
    {
      "cell_type": "code",
      "source": [
        "# Carrega o shapefile/ modelo do brasil e seus estados\n",
        "brasil = gpd.read_file('estados_2010.shp')\n",
        "\n",
        "df_media = df.copy()\n",
        "\n",
        "# Renomeia as coluna de Estado para que não haja conflito entre dataframe\n",
        "df_media = df_media.rename(columns={'Estado - Sigla': 'eSigla'})\n",
        "brasil = brasil.rename(columns={'sigla': 'eSigla'})\n",
        "\n",
        "# Agrupa por Sigla de Estado e Produto\n",
        "df_media = df_media.groupby(['eSigla', 'Produto'])['Valor de Venda'].mean()\n",
        "\n",
        "# Transforma a Series em dataframe\n",
        "df_media = df_media.to_frame()\n",
        "\n",
        "# Reseta o index\n",
        "df_media.reset_index(inplace=True)\n",
        "\n",
        "# Defini os indexes como eSigla\n",
        "df_media = df_media.set_index('eSigla')\n",
        "brasil = brasil.set_index('eSigla')"
      ],
      "metadata": {
        "id": "i7977M1NSlK-",
        "colab": {
          "base_uri": "https://localhost:8080/",
          "height": 651
        },
        "outputId": "c00f0841-c5e2-4ddc-c33f-45f82f4f6ccc"
      },
      "execution_count": null,
      "outputs": [
        {
          "output_type": "stream",
          "name": "stderr",
          "text": [
            "ERROR:fiona._env:estados_2010.shp: No such file or directory\n"
          ]
        },
        {
          "output_type": "error",
          "ename": "DriverError",
          "evalue": "estados_2010.shp: No such file or directory",
          "traceback": [
            "\u001b[0;31m---------------------------------------------------------------------------\u001b[0m",
            "\u001b[0;31mCPLE_OpenFailedError\u001b[0m                      Traceback (most recent call last)",
            "\u001b[0;32mfiona/ogrext.pyx\u001b[0m in \u001b[0;36mfiona.ogrext.gdal_open_vector\u001b[0;34m()\u001b[0m\n",
            "\u001b[0;32mfiona/_err.pyx\u001b[0m in \u001b[0;36mfiona._err.exc_wrap_pointer\u001b[0;34m()\u001b[0m\n",
            "\u001b[0;31mCPLE_OpenFailedError\u001b[0m: estados_2010.shp: No such file or directory",
            "\nDuring handling of the above exception, another exception occurred:\n",
            "\u001b[0;31mDriverError\u001b[0m                               Traceback (most recent call last)",
            "\u001b[0;32m<ipython-input-15-f87fb48aa2e3>\u001b[0m in \u001b[0;36m<cell line: 2>\u001b[0;34m()\u001b[0m\n\u001b[1;32m      1\u001b[0m \u001b[0;31m# Carrega o shapefile/ modelo do brasil e seus estados\u001b[0m\u001b[0;34m\u001b[0m\u001b[0;34m\u001b[0m\u001b[0m\n\u001b[0;32m----> 2\u001b[0;31m \u001b[0mbrasil\u001b[0m \u001b[0;34m=\u001b[0m \u001b[0mgpd\u001b[0m\u001b[0;34m.\u001b[0m\u001b[0mread_file\u001b[0m\u001b[0;34m(\u001b[0m\u001b[0;34m'estados_2010.shp'\u001b[0m\u001b[0;34m)\u001b[0m\u001b[0;34m\u001b[0m\u001b[0;34m\u001b[0m\u001b[0m\n\u001b[0m\u001b[1;32m      3\u001b[0m \u001b[0;34m\u001b[0m\u001b[0m\n\u001b[1;32m      4\u001b[0m \u001b[0mdf_media\u001b[0m \u001b[0;34m=\u001b[0m \u001b[0mdf\u001b[0m\u001b[0;34m.\u001b[0m\u001b[0mcopy\u001b[0m\u001b[0;34m(\u001b[0m\u001b[0;34m)\u001b[0m\u001b[0;34m\u001b[0m\u001b[0;34m\u001b[0m\u001b[0m\n\u001b[1;32m      5\u001b[0m \u001b[0;34m\u001b[0m\u001b[0m\n",
            "\u001b[0;32m/usr/local/lib/python3.10/dist-packages/geopandas/io/file.py\u001b[0m in \u001b[0;36m_read_file\u001b[0;34m(filename, bbox, mask, rows, engine, **kwargs)\u001b[0m\n\u001b[1;32m    279\u001b[0m             \u001b[0mpath_or_bytes\u001b[0m \u001b[0;34m=\u001b[0m \u001b[0mfilename\u001b[0m\u001b[0;34m\u001b[0m\u001b[0;34m\u001b[0m\u001b[0m\n\u001b[1;32m    280\u001b[0m \u001b[0;34m\u001b[0m\u001b[0m\n\u001b[0;32m--> 281\u001b[0;31m         return _read_file_fiona(\n\u001b[0m\u001b[1;32m    282\u001b[0m             \u001b[0mpath_or_bytes\u001b[0m\u001b[0;34m,\u001b[0m \u001b[0mfrom_bytes\u001b[0m\u001b[0;34m,\u001b[0m \u001b[0mbbox\u001b[0m\u001b[0;34m=\u001b[0m\u001b[0mbbox\u001b[0m\u001b[0;34m,\u001b[0m \u001b[0mmask\u001b[0m\u001b[0;34m=\u001b[0m\u001b[0mmask\u001b[0m\u001b[0;34m,\u001b[0m \u001b[0mrows\u001b[0m\u001b[0;34m=\u001b[0m\u001b[0mrows\u001b[0m\u001b[0;34m,\u001b[0m \u001b[0;34m**\u001b[0m\u001b[0mkwargs\u001b[0m\u001b[0;34m\u001b[0m\u001b[0;34m\u001b[0m\u001b[0m\n\u001b[1;32m    283\u001b[0m         )\n",
            "\u001b[0;32m/usr/local/lib/python3.10/dist-packages/geopandas/io/file.py\u001b[0m in \u001b[0;36m_read_file_fiona\u001b[0;34m(path_or_bytes, from_bytes, bbox, mask, rows, where, **kwargs)\u001b[0m\n\u001b[1;32m    320\u001b[0m \u001b[0;34m\u001b[0m\u001b[0m\n\u001b[1;32m    321\u001b[0m     \u001b[0;32mwith\u001b[0m \u001b[0mfiona_env\u001b[0m\u001b[0;34m(\u001b[0m\u001b[0;34m)\u001b[0m\u001b[0;34m:\u001b[0m\u001b[0;34m\u001b[0m\u001b[0;34m\u001b[0m\u001b[0m\n\u001b[0;32m--> 322\u001b[0;31m         \u001b[0;32mwith\u001b[0m \u001b[0mreader\u001b[0m\u001b[0;34m(\u001b[0m\u001b[0mpath_or_bytes\u001b[0m\u001b[0;34m,\u001b[0m \u001b[0;34m**\u001b[0m\u001b[0mkwargs\u001b[0m\u001b[0;34m)\u001b[0m \u001b[0;32mas\u001b[0m \u001b[0mfeatures\u001b[0m\u001b[0;34m:\u001b[0m\u001b[0;34m\u001b[0m\u001b[0;34m\u001b[0m\u001b[0m\n\u001b[0m\u001b[1;32m    323\u001b[0m             \u001b[0mcrs\u001b[0m \u001b[0;34m=\u001b[0m \u001b[0mfeatures\u001b[0m\u001b[0;34m.\u001b[0m\u001b[0mcrs_wkt\u001b[0m\u001b[0;34m\u001b[0m\u001b[0;34m\u001b[0m\u001b[0m\n\u001b[1;32m    324\u001b[0m             \u001b[0;31m# attempt to get EPSG code\u001b[0m\u001b[0;34m\u001b[0m\u001b[0;34m\u001b[0m\u001b[0m\n",
            "\u001b[0;32m/usr/local/lib/python3.10/dist-packages/fiona/env.py\u001b[0m in \u001b[0;36mwrapper\u001b[0;34m(*args, **kwds)\u001b[0m\n\u001b[1;32m    455\u001b[0m \u001b[0;34m\u001b[0m\u001b[0m\n\u001b[1;32m    456\u001b[0m         \u001b[0;32mwith\u001b[0m \u001b[0menv_ctor\u001b[0m\u001b[0;34m(\u001b[0m\u001b[0msession\u001b[0m\u001b[0;34m=\u001b[0m\u001b[0msession\u001b[0m\u001b[0;34m)\u001b[0m\u001b[0;34m:\u001b[0m\u001b[0;34m\u001b[0m\u001b[0;34m\u001b[0m\u001b[0m\n\u001b[0;32m--> 457\u001b[0;31m             \u001b[0;32mreturn\u001b[0m \u001b[0mf\u001b[0m\u001b[0;34m(\u001b[0m\u001b[0;34m*\u001b[0m\u001b[0margs\u001b[0m\u001b[0;34m,\u001b[0m \u001b[0;34m**\u001b[0m\u001b[0mkwds\u001b[0m\u001b[0;34m)\u001b[0m\u001b[0;34m\u001b[0m\u001b[0;34m\u001b[0m\u001b[0m\n\u001b[0m\u001b[1;32m    458\u001b[0m \u001b[0;34m\u001b[0m\u001b[0m\n\u001b[1;32m    459\u001b[0m     \u001b[0;32mreturn\u001b[0m \u001b[0mwrapper\u001b[0m\u001b[0;34m\u001b[0m\u001b[0;34m\u001b[0m\u001b[0m\n",
            "\u001b[0;32m/usr/local/lib/python3.10/dist-packages/fiona/__init__.py\u001b[0m in \u001b[0;36mopen\u001b[0;34m(fp, mode, driver, schema, crs, encoding, layer, vfs, enabled_drivers, crs_wkt, allow_unsupported_drivers, **kwargs)\u001b[0m\n\u001b[1;32m    290\u001b[0m \u001b[0;34m\u001b[0m\u001b[0m\n\u001b[1;32m    291\u001b[0m         \u001b[0;32mif\u001b[0m \u001b[0mmode\u001b[0m \u001b[0;32min\u001b[0m \u001b[0;34m(\u001b[0m\u001b[0;34m\"a\"\u001b[0m\u001b[0;34m,\u001b[0m \u001b[0;34m\"r\"\u001b[0m\u001b[0;34m)\u001b[0m\u001b[0;34m:\u001b[0m\u001b[0;34m\u001b[0m\u001b[0;34m\u001b[0m\u001b[0m\n\u001b[0;32m--> 292\u001b[0;31m             colxn = Collection(\n\u001b[0m\u001b[1;32m    293\u001b[0m                 \u001b[0mpath\u001b[0m\u001b[0;34m,\u001b[0m\u001b[0;34m\u001b[0m\u001b[0;34m\u001b[0m\u001b[0m\n\u001b[1;32m    294\u001b[0m                 \u001b[0mmode\u001b[0m\u001b[0;34m,\u001b[0m\u001b[0;34m\u001b[0m\u001b[0;34m\u001b[0m\u001b[0m\n",
            "\u001b[0;32m/usr/local/lib/python3.10/dist-packages/fiona/collection.py\u001b[0m in \u001b[0;36m__init__\u001b[0;34m(self, path, mode, driver, schema, crs, encoding, layer, vsi, archive, enabled_drivers, crs_wkt, ignore_fields, ignore_geometry, include_fields, wkt_version, allow_unsupported_drivers, **kwargs)\u001b[0m\n\u001b[1;32m    241\u001b[0m             \u001b[0;32mif\u001b[0m \u001b[0mself\u001b[0m\u001b[0;34m.\u001b[0m\u001b[0mmode\u001b[0m \u001b[0;34m==\u001b[0m \u001b[0;34m\"r\"\u001b[0m\u001b[0;34m:\u001b[0m\u001b[0;34m\u001b[0m\u001b[0;34m\u001b[0m\u001b[0m\n\u001b[1;32m    242\u001b[0m                 \u001b[0mself\u001b[0m\u001b[0;34m.\u001b[0m\u001b[0msession\u001b[0m \u001b[0;34m=\u001b[0m \u001b[0mSession\u001b[0m\u001b[0;34m(\u001b[0m\u001b[0;34m)\u001b[0m\u001b[0;34m\u001b[0m\u001b[0;34m\u001b[0m\u001b[0m\n\u001b[0;32m--> 243\u001b[0;31m                 \u001b[0mself\u001b[0m\u001b[0;34m.\u001b[0m\u001b[0msession\u001b[0m\u001b[0;34m.\u001b[0m\u001b[0mstart\u001b[0m\u001b[0;34m(\u001b[0m\u001b[0mself\u001b[0m\u001b[0;34m,\u001b[0m \u001b[0;34m**\u001b[0m\u001b[0mkwargs\u001b[0m\u001b[0;34m)\u001b[0m\u001b[0;34m\u001b[0m\u001b[0;34m\u001b[0m\u001b[0m\n\u001b[0m\u001b[1;32m    244\u001b[0m             \u001b[0;32melif\u001b[0m \u001b[0mself\u001b[0m\u001b[0;34m.\u001b[0m\u001b[0mmode\u001b[0m \u001b[0;32min\u001b[0m \u001b[0;34m(\u001b[0m\u001b[0;34m\"a\"\u001b[0m\u001b[0;34m,\u001b[0m \u001b[0;34m\"w\"\u001b[0m\u001b[0;34m)\u001b[0m\u001b[0;34m:\u001b[0m\u001b[0;34m\u001b[0m\u001b[0;34m\u001b[0m\u001b[0m\n\u001b[1;32m    245\u001b[0m                 \u001b[0mself\u001b[0m\u001b[0;34m.\u001b[0m\u001b[0msession\u001b[0m \u001b[0;34m=\u001b[0m \u001b[0mWritingSession\u001b[0m\u001b[0;34m(\u001b[0m\u001b[0;34m)\u001b[0m\u001b[0;34m\u001b[0m\u001b[0;34m\u001b[0m\u001b[0m\n",
            "\u001b[0;32mfiona/ogrext.pyx\u001b[0m in \u001b[0;36mfiona.ogrext.Session.start\u001b[0;34m()\u001b[0m\n",
            "\u001b[0;32mfiona/ogrext.pyx\u001b[0m in \u001b[0;36mfiona.ogrext.gdal_open_vector\u001b[0;34m()\u001b[0m\n",
            "\u001b[0;31mDriverError\u001b[0m: estados_2010.shp: No such file or directory"
          ]
        }
      ]
    },
    {
      "cell_type": "code",
      "source": [
        "# Filtra o dataFrame para incluir apenas 'Gasolina'\n",
        "df_media_gasolina = df_media[df_media['Produto'] == 'GASOLINA']\n",
        "\n",
        "# Filtra o dataFrame para incluir apenas 'Etanol'\n",
        "df_media_etanol = df_media[df_media['Produto'] == 'ETANOL']\n",
        "\n",
        "# Uni os dois DataFrames separadamente com o seu próprio mapa do Brasil\n",
        "brasil_gasolina = brasil.join(df_media_gasolina)\n",
        "brasil_etanol = brasil.join(df_media_etanol)"
      ],
      "metadata": {
        "id": "GHNymZgPSzC3"
      },
      "execution_count": null,
      "outputs": []
    },
    {
      "cell_type": "code",
      "source": [
        "# Dicionário com os ajustes individuais na posição dos Estados que estavam dispersos\n",
        "# Cordenada padrão (-5, 2). Cordenada abaixo é usada pra o cálculo, ex: PA -> (-5-1 = -6, 2-1 = 1)\n",
        "ajustes = {\n",
        "    'PA': (-1, -1),\n",
        "    'AM': (-3, -1),\n",
        "    'AP': (0, -0.4),\n",
        "    'RR': (-0.2, -0.2),\n",
        "    'SP': (0, 0.5),\n",
        "    'MA': (0, 1),\n",
        "    'TO': (0, -1),\n",
        "    'PI': (-0.5, -1),\n",
        "    'PB': (1, 0),\n",
        "    'AL': (1, 0),\n",
        "    'BA': (1, 1),\n",
        "    'MT': (-0.5, -0.5),\n",
        "    'DF': (-0.2, 0.7),\n",
        "    'AC': (1.4,-0.9)\n",
        "}"
      ],
      "metadata": {
        "id": "M2ROq8GZW21T"
      },
      "execution_count": null,
      "outputs": []
    },
    {
      "cell_type": "code",
      "source": [
        "# Adiciona as siglas dos estados\n",
        "def adicionar_sigla(pontos_centrais, index, top_5, ax):\n",
        "# Pega o ponto e a sigla\n",
        "  for ponto, sigla in zip(pontos_centrais, index):\n",
        "      # Só escrevem as siglas se forem parte do top 5\n",
        "      if sigla in top_5:\n",
        "          # Inicia os ajustes das coordenadas, fazendo os cálculos necessários\n",
        "          ajuste = ajustes.get(sigla, (0, 0))\n",
        "          ax.annotate(sigla, xy=(ponto.x + ajuste[0], ponto.y + ajuste[1]), xytext=(-5, -2), textcoords=\"offset points\")"
      ],
      "metadata": {
        "id": "JkKd5FNAfXIn"
      },
      "execution_count": null,
      "outputs": []
    },
    {
      "cell_type": "code",
      "source": [
        "# Ajusta o tamanho dos mapas do Brasil\n",
        "fig = plt.figure(figsize=(25, 8))\n",
        "\n",
        "# Cria os eixos para os dois mapas\n",
        "ax1 = fig.add_axes([0.13, 0.1, 0.4, 0.8])  # 1º- mapa para gasolina\n",
        "ax2 = fig.add_axes([0.45, 0.1, 0.4, 0.8])  # 2º- mapa para etanol\n",
        "\n",
        "# Cria um terceiro eixo para a barra de cores\n",
        "cax = fig.add_axes([0.47, 0.1, 0.02, 0.8])\n",
        "\n",
        "# Armazena os pontos centrais aproximados dos Estados\n",
        "pontos_centrais = brasil.geometry.representative_point()\n",
        "\n",
        "# Plota o mapa da gasolina -1º\n",
        "brasil_gasolina.plot(column='Valor de Venda', cmap='YlOrRd', linewidth=0.8, edgecolor='white', ax=ax1, legend=False)\n",
        "\n",
        "# Plota o mapa para etanol - 2º\n",
        "brasil_etanol.plot(column='Valor de Venda', cmap='YlOrRd', linewidth=0.8, edgecolor='white', ax=ax2, legend=False)\n",
        "\n",
        "# Seleciona os 5 estados com os maiores valores e chama a função de adicionar sigla\n",
        "top_5_estados_gas = df_media_gasolina.sort_values('Valor de Venda', ascending=False).head(5).index.tolist()\n",
        "adicionar_sigla(pontos_centrais, brasil.index, top_5_estados_gas, ax1)\n",
        "\n",
        "# Ordena os valores de etanol, seleciona os top 5 estados e chama a função\n",
        "top_5_estados_eta = df_media_etanol.sort_values('Valor de Venda', ascending=False).head(5).index.tolist()\n",
        "adicionar_sigla(pontos_centrais, brasil.index, top_5_estados_eta, ax2)\n",
        "\n",
        "# Oculta os valores em x e y dos mapas 1 e 2\n",
        "ax1.axis('off')\n",
        "ax2.axis('off')\n",
        "\n",
        "ax1.set_title('Preço médio da gasolina no Brasil')\n",
        "ax2.set_title('Preço médio do etanol no Brasil')\n",
        "\n",
        "# Criação da barra medidora de calor\n",
        "\n",
        "# Fixa o mínimo e máximo\n",
        "norm = mcolors.Normalize(vmin=df_media['Valor de Venda'].min(), vmax=df_media['Valor de Venda'].max())\n",
        "\n",
        "# Escolhe a paleta entre tons amarelados e avermelhados\n",
        "cmap = plt.get_cmap('YlOrRd')\n",
        "\n",
        "# Instância necessária para a criação da barra no centro\n",
        "sm = cm.ScalarMappable(cmap=cmap, norm=norm)\n",
        "sm.set_array([])\n",
        "\n",
        "fig.colorbar(sm, cax=cax, orientation='vertical')\n",
        "\n",
        "# Título da barra\n",
        "cax.set_title('R$ / Litro')\n",
        "\n",
        "plt.show()"
      ],
      "metadata": {
        "id": "2YoH_o5lX8PC"
      },
      "execution_count": null,
      "outputs": []
    },
    {
      "cell_type": "markdown",
      "source": [
        "# <font color='#0000CD'>4. Qual o preço médio da gasolina e do etanol por estado?"
      ],
      "metadata": {
        "id": "fEm8R4554fn9"
      }
    },
    {
      "cell_type": "code",
      "source": [
        "# Agrupa por Estado e Produto e calcula a média\n",
        "preco_medio = df.groupby(['Estado - Sigla', 'Produto'])['Valor de Venda'].mean()\n",
        "\n",
        "# Converte o resultado de volta para DataFrame para facilitar a manipulação\n",
        "preco_medio_df = preco_medio.reset_index()\n",
        "\n",
        "# Visualiza o DataFrame resultante\n",
        "print(\"DataFrame com Preço Médio por Estado e Produto:\")\n",
        "print(preco_medio_df.describe())\n",
        "\n",
        "%matplotlib inline\n",
        "\n",
        "# Criar um gráfico de barras usando seaborn com cores específicas\n",
        "plt.figure(figsize=(12, 6))\n",
        "sns.barplot(x='Estado - Sigla', y='Valor de Venda', hue='Produto', data=preco_medio_df,\n",
        "            palette={'GASOLINA': 'firebrick', 'ETANOL': 'royalblue', 'GASOLINA ADITIVADA': 'forestgreen'})\n",
        "plt.title('Preço Médio de Venda por Estado e Produto')\n",
        "plt.xlabel('Estado')\n",
        "plt.ylabel('Preço Médio de Venda')\n",
        "plt.show()"
      ],
      "metadata": {
        "colab": {
          "base_uri": "https://localhost:8080/",
          "height": 747
        },
        "id": "ssquHOF7488_",
        "outputId": "6012d985-7496-4ed7-e98b-02330c4d5102"
      },
      "execution_count": 12,
      "outputs": [
        {
          "output_type": "stream",
          "name": "stdout",
          "text": [
            "DataFrame com Preço Médio por Estado e Produto:\n",
            "       Valor de Venda\n",
            "count       81.000000\n",
            "mean         5.327496\n",
            "std          0.872899\n",
            "min          3.196731\n",
            "25%          4.586296\n",
            "50%          5.661679\n",
            "75%          5.875345\n",
            "max          6.892689\n"
          ]
        },
        {
          "output_type": "display_data",
          "data": {
            "text/plain": [
              "<Figure size 1200x600 with 1 Axes>"
            ],
            "image/png": "[encoded data removed]"
          },
          "metadata": {}
        }
      ]
    },
    {
      "cell_type": "markdown",
      "source": [
        "#O código abaixo agrupa os dados pelo estado e produto, calcula a média dos valores de venda para cada grupo e, em seguida, organiza as informações em um DataFrame para facilitar a visualização."
      ],
      "metadata": {
        "id": "1FPltBgB662C"
      }
    },
    {
      "cell_type": "code",
      "source": [
        "# Criando um DataFrame com os valores médios\n",
        "media_por_estado = df.groupby(['Estado - Sigla', 'Produto'])['Valor de Venda'].mean().unstack()\n",
        "\n",
        "# Selecionando apenas as colunas relevantes\n",
        "media_por_estado = media_por_estado[['ETANOL', 'GASOLINA', 'GASOLINA ADITIVADA']]\n",
        "\n",
        "# Renomeando as colunas\n",
        "media_por_estado.columns = ['Valor Médio Etanol', 'Valor Médio Gasolina', 'Valor Médio Gasolina Aditivada']\n",
        "\n",
        "# Exibindo o resultado\n",
        "print(media_por_estado)"
      ],
      "metadata": {
        "id": "MsA1ZrSU66gE",
        "colab": {
          "base_uri": "https://localhost:8080/"
        },
        "outputId": "a3707b1c-3cf6-4147-d716-dfd742dc77fb"
      },
      "execution_count": 13,
      "outputs": [
        {
          "output_type": "stream",
          "name": "stdout",
          "text": [
            "                Valor Médio Etanol  Valor Médio Gasolina  \\\n",
            "Estado - Sigla                                             \n",
            "AC                        4.814746              6.892689   \n",
            "AL                        4.368662              5.902182   \n",
            "AM                        4.586296              6.684812   \n",
            "AP                        5.432000              5.582523   \n",
            "BA                        4.256841              5.908484   \n",
            "CE                        4.555342              5.770411   \n",
            "DF                        3.614411              5.560417   \n",
            "ES                        4.154485              5.789597   \n",
            "GO                        3.540582              5.565066   \n",
            "MA                        4.444377              5.535344   \n",
            "MG                        3.572839              5.553522   \n",
            "MS                        3.673664              5.711078   \n",
            "MT                        3.196731              5.666366   \n",
            "PA                        4.628586              6.031001   \n",
            "PB                        4.029035              5.612553   \n",
            "PE                        4.035849              5.506118   \n",
            "PI                        4.082885              5.410249   \n",
            "PR                        3.766912              5.745373   \n",
            "RJ                        4.115120              5.702001   \n",
            "RN                        4.442788              5.624312   \n",
            "RO                        5.106897              6.442226   \n",
            "RR                        4.885000              5.892136   \n",
            "RS                        4.610387              5.598818   \n",
            "SC                        4.368115              5.726118   \n",
            "SE                        4.479412              5.798400   \n",
            "SP                        3.438493              5.531937   \n",
            "TO                        4.305870              5.879668   \n",
            "\n",
            "                Valor Médio Gasolina Aditivada  \n",
            "Estado - Sigla                                  \n",
            "AC                                    6.825698  \n",
            "AL                                    5.992619  \n",
            "AM                                    6.615178  \n",
            "AP                                    5.851944  \n",
            "BA                                    6.016711  \n",
            "CE                                    5.921650  \n",
            "DF                                    5.648974  \n",
            "ES                                    5.980728  \n",
            "GO                                    5.741020  \n",
            "MA                                    5.667006  \n",
            "MG                                    5.756737  \n",
            "MS                                    5.919964  \n",
            "MT                                    5.873064  \n",
            "PA                                    6.319259  \n",
            "PB                                    5.756827  \n",
            "PE                                    5.696421  \n",
            "PI                                    5.628782  \n",
            "PR                                    5.927929  \n",
            "RJ                                    5.842945  \n",
            "RN                                    5.661679  \n",
            "RO                                    6.517180  \n",
            "RR                                    5.988229  \n",
            "RS                                    5.776139  \n",
            "SC                                    5.855054  \n",
            "SE                                    5.875345  \n",
            "SP                                    5.798178  \n",
            "TO                                    5.942190  \n"
          ]
        }
      ]
    },
    {
      "cell_type": "markdown",
      "source": [
        "#Este código gera dois boxplots. O primeiro mostra a distribuição dos preços de venda por produto, enquanto o segundo mostra a distribuição por estado"
      ],
      "metadata": {
        "id": "W8R1I6RF2WlD"
      }
    },
    {
      "cell_type": "code",
      "source": [
        "# Revisão dos Dados\n",
        "df['Valor de Venda'] = pd.to_numeric(df['Valor de Venda'], errors='coerce')  # Converta para tipo numérico\n",
        "\n",
        "# Resetando o índice\n",
        "df.reset_index(drop=True, inplace=True)\n",
        "\n",
        "# Boxplot para visualizar outliers por Produto\n",
        "plt.figure(figsize=(12, 6))\n",
        "sns.boxplot(x='Produto', y='Valor de Venda', data=df)\n",
        "plt.title('Boxplot para Identificar Outliers por Produto')\n",
        "plt.show()\n",
        "\n",
        "# Boxplot para visualizar outliers por Estado\n",
        "plt.figure(figsize=(18, 6))\n",
        "sns.boxplot(x='Estado - Sigla', y='Valor de Venda', data=df)\n",
        "plt.title('Boxplot para Identificar Outliers por Estado')\n",
        "plt.show()"
      ],
      "metadata": {
        "colab": {
          "base_uri": "https://localhost:8080/",
          "height": 1000
        },
        "id": "I8hPWoPLGiig",
        "outputId": "defda5a7-437e-4d13-bab3-79007b3a825b"
      },
      "execution_count": 15,
      "outputs": [
        {
          "output_type": "display_data",
          "data": {
            "text/plain": [
              "<Figure size 1200x600 with 1 Axes>"
            ],
            "image/png": "[encoded data removed]"
          },
          "metadata": {}
        },
        {
          "output_type": "display_data",
          "data": {
            "text/plain": [
              "<Figure size 1800x600 with 1 Axes>"
            ],
            "image/png": "[encoded data removed]"
          },
          "metadata": {}
        }
      ]
    },
    {
      "cell_type": "markdown",
      "source": [
        "#<font color='#0000CD'>5. Qual o município que possui o menor preço para a gasolina e para o etanol?"
      ],
      "metadata": {
        "id": "PIo-RUXP_XyI"
      }
    },
    {
      "cell_type": "code",
      "source": [
        "# Converter a coluna 'Valor de Venda' para tipo numérico (float)\n",
        "df['Valor de Venda'] = pd.to_numeric(df['Valor de Venda'], errors='coerce')\n",
        "\n",
        "# Criar DataFrames para os menores preços\n",
        "menor_preco_gasolina_df = df.loc[df['Produto'] == 'GASOLINA', ['Municipio', 'Valor de Venda']].nsmallest(1, 'Valor de Venda')\n",
        "menor_preco_etanol_df = df.loc[df['Produto'] == 'ETANOL', ['Municipio', 'Valor de Venda']].nsmallest(1, 'Valor de Venda')\n",
        "menor_preco_gasolina_aditivada_df = df.loc[df['Produto'] == 'GASOLINA ADITIVADA', ['Municipio', 'Valor de Venda']].nsmallest(1, 'Valor de Venda')\n",
        "\n",
        "# Exibir os resultados da pesquisa\n",
        "print(\"Menor preço para a gasolina:\", menor_preco_gasolina_df['Municipio'].values[0], \"- Valor:\", menor_preco_gasolina_df['Valor de Venda'].values[0])\n",
        "print(\"Menor preço para a gasolina aditivada:\", menor_preco_gasolina_aditivada_df['Municipio'].values[0], \"- Valor:\", menor_preco_gasolina_aditivada_df['Valor de Venda'].values[0])\n",
        "print(\"Menor preço para o etanol:\", menor_preco_etanol_df['Municipio'].values[0], \"- Valor:\", menor_preco_etanol_df['Valor de Venda'].values[0])\n",
        "\n",
        "# Criar gráfico de barras empilhadas\n",
        "plt.figure(figsize=(10, 6))\n",
        "\n",
        "# Adicionar barras empilhadas\n",
        "plt.barh(menor_preco_gasolina_df['Municipio'], menor_preco_gasolina_df['Valor de Venda'], color='blue', label='Gasolina')\n",
        "plt.barh(menor_preco_gasolina_aditivada_df['Municipio'], menor_preco_gasolina_aditivada_df['Valor de Venda'], color='purple', label='Gasolina Aditivada')\n",
        "plt.barh(menor_preco_etanol_df['Municipio'], menor_preco_etanol_df['Valor de Venda'], color='green', label='Etanol')\n",
        "\n",
        "# Adicionar legendas na parte superior e do lado direito\n",
        "plt.legend(loc='upper right', bbox_to_anchor=(1, 1))\n",
        "\n",
        "plt.xlabel('Valor de Venda')\n",
        "plt.ylabel('Municipio')\n",
        "plt.title('Menor preço de Gasolina, Gasolina Aditivada e Etanol por Município')\n",
        "\n",
        "# Exibir o gráfico\n",
        "plt.show()"
      ],
      "metadata": {
        "id": "uuydXUxX_XSY",
        "colab": {
          "base_uri": "https://localhost:8080/",
          "height": 620
        },
        "outputId": "3f1ec492-0258-4789-b72d-4554b02245aa"
      },
      "execution_count": 16,
      "outputs": [
        {
          "output_type": "stream",
          "name": "stdout",
          "text": [
            "Menor preço para a gasolina: SAO CARLOS - Valor: 4.49\n",
            "Menor preço para a gasolina aditivada: ASSIS - Valor: 4.69\n",
            "Menor preço para o etanol: GUARULHOS - Valor: 2.77\n"
          ]
        },
        {
          "output_type": "display_data",
          "data": {
            "text/plain": [
              "<Figure size 1000x600 with 1 Axes>"
            ],
            "image/png": "[encoded data removed]"
          },
          "metadata": {}
        }
      ]
    },
    {
      "cell_type": "markdown",
      "source": [
        "#<font color='#0000CD'>6. Qual o município que possui o maior preço para a gasolina e para o etanol?"
      ],
      "metadata": {
        "id": "m9KHvFsi_tMO"
      }
    },
    {
      "cell_type": "code",
      "source": [
        "# Encontrar o município com o maior preço para a gasolina\n",
        "maior_preco_gasolina = df[df['Produto'] == 'GASOLINA']['Valor de Venda'].nlargest(1)\n",
        "maior_municipio_gasolina = df.loc[maior_preco_gasolina.index, 'Municipio'].values[0]\n",
        "valor_gasolina = maior_preco_gasolina.values[0]\n",
        "\n",
        "# Encontrar o município com o maior preço para o etanol\n",
        "maior_preco_etanol = df[df['Produto'] == 'ETANOL']['Valor de Venda'].nlargest(1)\n",
        "maior_municipio_etanol = df.loc[maior_preco_etanol.index, 'Municipio'].values[0]\n",
        "valor_etanol = maior_preco_etanol.values[0]\n",
        "\n",
        "# Encontrar o município com o maior preço para a gasolina aditivada\n",
        "maior_preco_gasolina_aditivada = df[df['Produto'] == 'GASOLINA ADITIVADA']['Valor de Venda'].nlargest(1)\n",
        "maior_municipio_gasolina_aditivada = df.loc[maior_preco_gasolina_aditivada.index, 'Municipio'].values[0]\n",
        "valor_gasolina_aditivada = maior_preco_gasolina_aditivada.values[0]\n",
        "\n",
        "# Apresentar os resultados\n",
        "print(f\"Maior preço para a gasolina: {maior_municipio_gasolina} - Valor: {valor_gasolina}\")\n",
        "print(f\"Maior preço para o etanol: {maior_municipio_etanol} - Valor: {valor_etanol}\")\n",
        "print(f\"Maior preço para a gasolina aditivada: {maior_municipio_gasolina_aditivada} - Valor: {valor_gasolina_aditivada}\")"
      ],
      "metadata": {
        "id": "otofTGe9_s2r",
        "colab": {
          "base_uri": "https://localhost:8080/"
        },
        "outputId": "5618aaf2-02a6-46f6-da71-cccacc4333c1"
      },
      "execution_count": 17,
      "outputs": [
        {
          "output_type": "stream",
          "name": "stdout",
          "text": [
            "Maior preço para a gasolina: TEFE - Valor: 7.7\n",
            "Maior preço para o etanol: SANTAREM - Valor: 6.6\n",
            "Maior preço para a gasolina aditivada: SAO PAULO - Valor: 8.69\n"
          ]
        }
      ]
    },
    {
      "cell_type": "code",
      "source": [
        "# Dados para o gráfico de pizza\n",
        "valores = [7.7, 6.6, 9.79]\n",
        "municipios = ['TEFE', 'SANTAREM', 'CAMPINAS']\n",
        "\n",
        "# Cores correspondentes\n",
        "cores = ['skyblue', 'lightgreen', 'lightcoral']\n",
        "\n",
        "# Criar o gráfico de pizza\n",
        "fig, ax = plt.subplots()\n",
        "patches, texts, autotexts = ax.pie(valores, labels=None, startangle=90, colors=cores, autopct='%1.2f%%')\n",
        "\n",
        "# Adicionar rótulos customizados com os combustíveis e cores correspondentes\n",
        "labels = ['Gasolina - Azul', 'Etanol - Verde', 'Gasolina Aditivada - Coral']\n",
        "ax.legend(patches, labels, loc='upper center', bbox_to_anchor=(0.5, -0.1), title='Combustíveis', labelcolor='darkblue')\n",
        "\n",
        "# Substituir porcentagens pelos valores dos combustíveis e nomes dos municípios\n",
        "for text, valor, municipio in zip(autotexts, valores, municipios):\n",
        "    text.set_text(f'{municipio}: {valor:.2f}')\n",
        "\n",
        "# Adicionar título com cor diferente\n",
        "title = ax.set_title('Maiores Preços de Combustíveis por Município', fontsize=14, color='darkblue')\n",
        "plt.setp(title, bbox=dict(facecolor='lightyellow', edgecolor='darkblue', boxstyle='round,pad=0.3'))\n",
        "\n",
        "# Exibir o gráfico\n",
        "plt.show()"
      ],
      "metadata": {
        "id": "97wmmTwl_-AP",
        "colab": {
          "base_uri": "https://localhost:8080/",
          "height": 562
        },
        "outputId": "d5fe52bc-00ec-4a01-a601-a805b5f22e4f"
      },
      "execution_count": 18,
      "outputs": [
        {
          "output_type": "display_data",
          "data": {
            "text/plain": [
              "<Figure size 640x480 with 1 Axes>"
            ],
            "image/png": "[encoded data removed]"
          },
          "metadata": {}
        }
      ]
    },
    {
      "cell_type": "markdown",
      "source": [
        "# <font color = \"#EE82EE\"> 7. Qual a região que possui o maior valor médio da gasolina?"
      ],
      "metadata": {
        "id": "eGM2D2N1wOCy"
      }
    },
    {
      "cell_type": "code",
      "source": [
        "import pandas as pd\n",
        "\n",
        "max_gaso = df[['Valor de Venda']].groupby([df['Regiao - Sigla'],df['Produto']]).mean()\n",
        "\n",
        "max_gaso"
      ],
      "metadata": {
        "id": "IIJjDsuSxBv7"
      },
      "execution_count": null,
      "outputs": []
    },
    {
      "cell_type": "code",
      "source": [
        "questao7 = max_gaso.query('Produto == \"GASOLINA\"').sort_values('Valor de Venda', ascending=False)"
      ],
      "metadata": {
        "id": "F7lMPtKfxE7r"
      },
      "execution_count": 23,
      "outputs": []
    },
    {
      "cell_type": "code",
      "source": [
        "questao7.head(1)"
      ],
      "metadata": {
        "id": "73mAl6GBxHMC",
        "colab": {
          "base_uri": "https://localhost:8080/",
          "height": 112
        },
        "outputId": "fec2213c-6070-4f3f-e028-c9a1080d138c"
      },
      "execution_count": 24,
      "outputs": [
        {
          "output_type": "execute_result",
          "data": {
            "text/plain": [
              "                         Valor de Venda\n",
              "Regiao - Sigla Produto                 \n",
              "N              GASOLINA        6.204558"
            ],
            "text/html": [
              "\n",
              "  <div id=\"df-fab3b764-89c8-41ab-bb17-4de24824b39a\" class=\"colab-df-container\">\n",
              "    <div>\n",
              "<style scoped>\n",
              "    .dataframe tbody tr th:only-of-type {\n",
              "        vertical-align: middle;\n",
              "    }\n",
              "\n",
              "    .dataframe tbody tr th {\n",
              "        vertical-align: top;\n",
              "    }\n",
              "\n",
              "    .dataframe thead th {\n",
              "        text-align: right;\n",
              "    }\n",
              "</style>\n",
              "<table border=\"1\" class=\"dataframe\">\n",
              "  <thead>\n",
              "    <tr style=\"text-align: right;\">\n",
              "      <th></th>\n",
              "      <th></th>\n",
              "      <th>Valor de Venda</th>\n",
              "    </tr>\n",
              "    <tr>\n",
              "      <th>Regiao - Sigla</th>\n",
              "      <th>Produto</th>\n",
              "      <th></th>\n",
              "    </tr>\n",
              "  </thead>\n",
              "  <tbody>\n",
              "    <tr>\n",
              "      <th>N</th>\n",
              "      <th>GASOLINA</th>\n",
              "      <td>6.204558</td>\n",
              "    </tr>\n",
              "  </tbody>\n",
              "</table>\n",
              "</div>\n",
              "    <div class=\"colab-df-buttons\">\n",
              "\n",
              "  <div class=\"colab-df-container\">\n",
              "    <button class=\"colab-df-convert\" onclick=\"convertToInteractive('df-fab3b764-89c8-41ab-bb17-4de24824b39a')\"\n",
              "            title=\"Convert this dataframe to an interactive table.\"\n",
              "            style=\"display:none;\">\n",
              "\n",
              "  <svg xmlns=\"http://www.w3.org/2000/svg\" height=\"24px\" viewBox=\"0 -960 960 960\">\n",
              "    <path d=\"M120-120v-720h720v720H120Zm60-500h600v-160H180v160Zm220 220h160v-160H400v160Zm0 220h160v-160H400v160ZM180-400h160v-160H180v160Zm440 0h160v-160H620v160ZM180-180h160v-160H180v160Zm440 0h160v-160H620v160Z\"/>\n",
              "  </svg>\n",
              "    </button>\n",
              "\n",
              "  <style>\n",
              "    .colab-df-container {\n",
              "      display:flex;\n",
              "      gap: 12px;\n",
              "    }\n",
              "\n",
              "    .colab-df-convert {\n",
              "      background-color: #E8F0FE;\n",
              "      border: none;\n",
              "      border-radius: 50%;\n",
              "      cursor: pointer;\n",
              "      display: none;\n",
              "      fill: #1967D2;\n",
              "      height: 32px;\n",
              "      padding: 0 0 0 0;\n",
              "      width: 32px;\n",
              "    }\n",
              "\n",
              "    .colab-df-convert:hover {\n",
              "      background-color: #E2EBFA;\n",
              "      box-shadow: 0px 1px 2px rgba(60, 64, 67, 0.3), 0px 1px 3px 1px rgba(60, 64, 67, 0.15);\n",
              "      fill: #174EA6;\n",
              "    }\n",
              "\n",
              "    .colab-df-buttons div {\n",
              "      margin-bottom: 4px;\n",
              "    }\n",
              "\n",
              "    [theme=dark] .colab-df-convert {\n",
              "      background-color: #3B4455;\n",
              "      fill: #D2E3FC;\n",
              "    }\n",
              "\n",
              "    [theme=dark] .colab-df-convert:hover {\n",
              "      background-color: #434B5C;\n",
              "      box-shadow: 0px 1px 3px 1px rgba(0, 0, 0, 0.15);\n",
              "      filter: drop-shadow(0px 1px 2px rgba(0, 0, 0, 0.3));\n",
              "      fill: #FFFFFF;\n",
              "    }\n",
              "  </style>\n",
              "\n",
              "    <script>\n",
              "      const buttonEl =\n",
              "        document.querySelector('#df-fab3b764-89c8-41ab-bb17-4de24824b39a button.colab-df-convert');\n",
              "      buttonEl.style.display =\n",
              "        google.colab.kernel.accessAllowed ? 'block' : 'none';\n",
              "\n",
              "      async function convertToInteractive(key) {\n",
              "        const element = document.querySelector('#df-fab3b764-89c8-41ab-bb17-4de24824b39a');\n",
              "        const dataTable =\n",
              "          await google.colab.kernel.invokeFunction('convertToInteractive',\n",
              "                                                    [key], {});\n",
              "        if (!dataTable) return;\n",
              "\n",
              "        const docLinkHtml = 'Like what you see? Visit the ' +\n",
              "          '<a target=\"_blank\" href=https://colab.research.google.com/notebooks/data_table.ipynb>data table notebook</a>'\n",
              "          + ' to learn more about interactive tables.';\n",
              "        element.innerHTML = '';\n",
              "        dataTable['output_type'] = 'display_data';\n",
              "        await google.colab.output.renderOutput(dataTable, element);\n",
              "        const docLink = document.createElement('div');\n",
              "        docLink.innerHTML = docLinkHtml;\n",
              "        element.appendChild(docLink);\n",
              "      }\n",
              "    </script>\n",
              "  </div>\n",
              "\n",
              "\n",
              "    </div>\n",
              "  </div>\n"
            ]
          },
          "metadata": {},
          "execution_count": 24
        }
      ]
    },
    {
      "cell_type": "markdown",
      "source": [
        "# <font color = \"#EE82EE\"> 8. Qual a região que possui o menor valor médio do etanol?"
      ],
      "metadata": {
        "id": "6B7Sjo6Rwz7q"
      }
    },
    {
      "cell_type": "code",
      "source": [
        "import pandas as pd\n",
        "\n",
        "min_eta = df[['Valor de Venda']].groupby([df['Regiao - Sigla'],df['Produto']]).mean()\n",
        "\n",
        "min_eta"
      ],
      "metadata": {
        "id": "MLkQKObcxMup"
      },
      "execution_count": null,
      "outputs": []
    },
    {
      "cell_type": "code",
      "source": [
        "questao8 = min_eta.query('Produto == \"ETANOL\"').sort_values('Valor de Venda')"
      ],
      "metadata": {
        "id": "pS7X-vuxxPIZ"
      },
      "execution_count": 26,
      "outputs": []
    },
    {
      "cell_type": "code",
      "source": [
        "questao8.head(1)"
      ],
      "metadata": {
        "id": "QCk6l3U-xSEq",
        "colab": {
          "base_uri": "https://localhost:8080/",
          "height": 112
        },
        "outputId": "05cbb405-3036-4542-908f-82cf20c1fe48"
      },
      "execution_count": 27,
      "outputs": [
        {
          "output_type": "execute_result",
          "data": {
            "text/plain": [
              "                        Valor de Venda\n",
              "Regiao - Sigla Produto                \n",
              "CO             ETANOL         3.509253"
            ],
            "text/html": [
              "\n",
              "  <div id=\"df-dfdc394f-44f1-44e7-bd90-b1256385bcb3\" class=\"colab-df-container\">\n",
              "    <div>\n",
              "<style scoped>\n",
              "    .dataframe tbody tr th:only-of-type {\n",
              "        vertical-align: middle;\n",
              "    }\n",
              "\n",
              "    .dataframe tbody tr th {\n",
              "        vertical-align: top;\n",
              "    }\n",
              "\n",
              "    .dataframe thead th {\n",
              "        text-align: right;\n",
              "    }\n",
              "</style>\n",
              "<table border=\"1\" class=\"dataframe\">\n",
              "  <thead>\n",
              "    <tr style=\"text-align: right;\">\n",
              "      <th></th>\n",
              "      <th></th>\n",
              "      <th>Valor de Venda</th>\n",
              "    </tr>\n",
              "    <tr>\n",
              "      <th>Regiao - Sigla</th>\n",
              "      <th>Produto</th>\n",
              "      <th></th>\n",
              "    </tr>\n",
              "  </thead>\n",
              "  <tbody>\n",
              "    <tr>\n",
              "      <th>CO</th>\n",
              "      <th>ETANOL</th>\n",
              "      <td>3.509253</td>\n",
              "    </tr>\n",
              "  </tbody>\n",
              "</table>\n",
              "</div>\n",
              "    <div class=\"colab-df-buttons\">\n",
              "\n",
              "  <div class=\"colab-df-container\">\n",
              "    <button class=\"colab-df-convert\" onclick=\"convertToInteractive('df-dfdc394f-44f1-44e7-bd90-b1256385bcb3')\"\n",
              "            title=\"Convert this dataframe to an interactive table.\"\n",
              "            style=\"display:none;\">\n",
              "\n",
              "  <svg xmlns=\"http://www.w3.org/2000/svg\" height=\"24px\" viewBox=\"0 -960 960 960\">\n",
              "    <path d=\"M120-120v-720h720v720H120Zm60-500h600v-160H180v160Zm220 220h160v-160H400v160Zm0 220h160v-160H400v160ZM180-400h160v-160H180v160Zm440 0h160v-160H620v160ZM180-180h160v-160H180v160Zm440 0h160v-160H620v160Z\"/>\n",
              "  </svg>\n",
              "    </button>\n",
              "\n",
              "  <style>\n",
              "    .colab-df-container {\n",
              "      display:flex;\n",
              "      gap: 12px;\n",
              "    }\n",
              "\n",
              "    .colab-df-convert {\n",
              "      background-color: #E8F0FE;\n",
              "      border: none;\n",
              "      border-radius: 50%;\n",
              "      cursor: pointer;\n",
              "      display: none;\n",
              "      fill: #1967D2;\n",
              "      height: 32px;\n",
              "      padding: 0 0 0 0;\n",
              "      width: 32px;\n",
              "    }\n",
              "\n",
              "    .colab-df-convert:hover {\n",
              "      background-color: #E2EBFA;\n",
              "      box-shadow: 0px 1px 2px rgba(60, 64, 67, 0.3), 0px 1px 3px 1px rgba(60, 64, 67, 0.15);\n",
              "      fill: #174EA6;\n",
              "    }\n",
              "\n",
              "    .colab-df-buttons div {\n",
              "      margin-bottom: 4px;\n",
              "    }\n",
              "\n",
              "    [theme=dark] .colab-df-convert {\n",
              "      background-color: #3B4455;\n",
              "      fill: #D2E3FC;\n",
              "    }\n",
              "\n",
              "    [theme=dark] .colab-df-convert:hover {\n",
              "      background-color: #434B5C;\n",
              "      box-shadow: 0px 1px 3px 1px rgba(0, 0, 0, 0.15);\n",
              "      filter: drop-shadow(0px 1px 2px rgba(0, 0, 0, 0.3));\n",
              "      fill: #FFFFFF;\n",
              "    }\n",
              "  </style>\n",
              "\n",
              "    <script>\n",
              "      const buttonEl =\n",
              "        document.querySelector('#df-dfdc394f-44f1-44e7-bd90-b1256385bcb3 button.colab-df-convert');\n",
              "      buttonEl.style.display =\n",
              "        google.colab.kernel.accessAllowed ? 'block' : 'none';\n",
              "\n",
              "      async function convertToInteractive(key) {\n",
              "        const element = document.querySelector('#df-dfdc394f-44f1-44e7-bd90-b1256385bcb3');\n",
              "        const dataTable =\n",
              "          await google.colab.kernel.invokeFunction('convertToInteractive',\n",
              "                                                    [key], {});\n",
              "        if (!dataTable) return;\n",
              "\n",
              "        const docLinkHtml = 'Like what you see? Visit the ' +\n",
              "          '<a target=\"_blank\" href=https://colab.research.google.com/notebooks/data_table.ipynb>data table notebook</a>'\n",
              "          + ' to learn more about interactive tables.';\n",
              "        element.innerHTML = '';\n",
              "        dataTable['output_type'] = 'display_data';\n",
              "        await google.colab.output.renderOutput(dataTable, element);\n",
              "        const docLink = document.createElement('div');\n",
              "        docLink.innerHTML = docLinkHtml;\n",
              "        element.appendChild(docLink);\n",
              "      }\n",
              "    </script>\n",
              "  </div>\n",
              "\n",
              "\n",
              "    </div>\n",
              "  </div>\n"
            ]
          },
          "metadata": {},
          "execution_count": 27
        }
      ]
    },
    {
      "cell_type": "markdown",
      "source": [
        "# <font color = \"#EE82EE\"> 9. Há alguma correlação entre o valor do combustível (gasolina e etanol) e a região onde ele é vendido?\n"
      ],
      "metadata": {
        "id": "mZ74xq_zw47K"
      }
    },
    {
      "cell_type": "code",
      "source": [
        "questao9 = df.groupby(['Regiao - Sigla','Data da Coleta', 'Produto'])['Valor de Venda'].mean()\n",
        "\n",
        "questao9 = pd.DataFrame(questao9)\n",
        "\n",
        "questao9 = questao9['Valor de Venda'].unstack()\n",
        "questao9E = pd.DataFrame(questao9['ETANOL'].unstack())\n",
        "questao9G = pd.DataFrame(questao9['GASOLINA'].unstack())"
      ],
      "metadata": {
        "id": "dBXZ8Zo1xV7y"
      },
      "execution_count": 28,
      "outputs": []
    },
    {
      "cell_type": "code",
      "source": [
        "questao9G.T.corr()"
      ],
      "metadata": {
        "id": "O49kjNQAxYh7",
        "colab": {
          "base_uri": "https://localhost:8080/",
          "height": 237
        },
        "outputId": "195049d8-e437-4b2c-b5ed-09cd33f91a11"
      },
      "execution_count": 29,
      "outputs": [
        {
          "output_type": "execute_result",
          "data": {
            "text/plain": [
              "Regiao - Sigla        CO         N        NE         S        SE\n",
              "Regiao - Sigla                                                  \n",
              "CO              1.000000 -0.249630  0.092482 -0.015832 -0.037893\n",
              "N              -0.249630  1.000000 -0.049678  0.093756  0.165315\n",
              "NE              0.092482 -0.049678  1.000000 -0.002293 -0.620034\n",
              "S              -0.015832  0.093756 -0.002293  1.000000  0.054468\n",
              "SE             -0.037893  0.165315 -0.620034  0.054468  1.000000"
            ],
            "text/html": [
              "\n",
              "  <div id=\"df-4a710ea1-73c5-4204-81b5-770d2143f9d2\" class=\"colab-df-container\">\n",
              "    <div>\n",
              "<style scoped>\n",
              "    .dataframe tbody tr th:only-of-type {\n",
              "        vertical-align: middle;\n",
              "    }\n",
              "\n",
              "    .dataframe tbody tr th {\n",
              "        vertical-align: top;\n",
              "    }\n",
              "\n",
              "    .dataframe thead th {\n",
              "        text-align: right;\n",
              "    }\n",
              "</style>\n",
              "<table border=\"1\" class=\"dataframe\">\n",
              "  <thead>\n",
              "    <tr style=\"text-align: right;\">\n",
              "      <th>Regiao - Sigla</th>\n",
              "      <th>CO</th>\n",
              "      <th>N</th>\n",
              "      <th>NE</th>\n",
              "      <th>S</th>\n",
              "      <th>SE</th>\n",
              "    </tr>\n",
              "    <tr>\n",
              "      <th>Regiao - Sigla</th>\n",
              "      <th></th>\n",
              "      <th></th>\n",
              "      <th></th>\n",
              "      <th></th>\n",
              "      <th></th>\n",
              "    </tr>\n",
              "  </thead>\n",
              "  <tbody>\n",
              "    <tr>\n",
              "      <th>CO</th>\n",
              "      <td>1.000000</td>\n",
              "      <td>-0.249630</td>\n",
              "      <td>0.092482</td>\n",
              "      <td>-0.015832</td>\n",
              "      <td>-0.037893</td>\n",
              "    </tr>\n",
              "    <tr>\n",
              "      <th>N</th>\n",
              "      <td>-0.249630</td>\n",
              "      <td>1.000000</td>\n",
              "      <td>-0.049678</td>\n",
              "      <td>0.093756</td>\n",
              "      <td>0.165315</td>\n",
              "    </tr>\n",
              "    <tr>\n",
              "      <th>NE</th>\n",
              "      <td>0.092482</td>\n",
              "      <td>-0.049678</td>\n",
              "      <td>1.000000</td>\n",
              "      <td>-0.002293</td>\n",
              "      <td>-0.620034</td>\n",
              "    </tr>\n",
              "    <tr>\n",
              "      <th>S</th>\n",
              "      <td>-0.015832</td>\n",
              "      <td>0.093756</td>\n",
              "      <td>-0.002293</td>\n",
              "      <td>1.000000</td>\n",
              "      <td>0.054468</td>\n",
              "    </tr>\n",
              "    <tr>\n",
              "      <th>SE</th>\n",
              "      <td>-0.037893</td>\n",
              "      <td>0.165315</td>\n",
              "      <td>-0.620034</td>\n",
              "      <td>0.054468</td>\n",
              "      <td>1.000000</td>\n",
              "    </tr>\n",
              "  </tbody>\n",
              "</table>\n",
              "</div>\n",
              "    <div class=\"colab-df-buttons\">\n",
              "\n",
              "  <div class=\"colab-df-container\">\n",
              "    <button class=\"colab-df-convert\" onclick=\"convertToInteractive('df-4a710ea1-73c5-4204-81b5-770d2143f9d2')\"\n",
              "            title=\"Convert this dataframe to an interactive table.\"\n",
              "            style=\"display:none;\">\n",
              "\n",
              "  <svg xmlns=\"http://www.w3.org/2000/svg\" height=\"24px\" viewBox=\"0 -960 960 960\">\n",
              "    <path d=\"M120-120v-720h720v720H120Zm60-500h600v-160H180v160Zm220 220h160v-160H400v160Zm0 220h160v-160H400v160ZM180-400h160v-160H180v160Zm440 0h160v-160H620v160ZM180-180h160v-160H180v160Zm440 0h160v-160H620v160Z\"/>\n",
              "  </svg>\n",
              "    </button>\n",
              "\n",
              "  <style>\n",
              "    .colab-df-container {\n",
              "      display:flex;\n",
              "      gap: 12px;\n",
              "    }\n",
              "\n",
              "    .colab-df-convert {\n",
              "      background-color: #E8F0FE;\n",
              "      border: none;\n",
              "      border-radius: 50%;\n",
              "      cursor: pointer;\n",
              "      display: none;\n",
              "      fill: #1967D2;\n",
              "      height: 32px;\n",
              "      padding: 0 0 0 0;\n",
              "      width: 32px;\n",
              "    }\n",
              "\n",
              "    .colab-df-convert:hover {\n",
              "      background-color: #E2EBFA;\n",
              "      box-shadow: 0px 1px 2px rgba(60, 64, 67, 0.3), 0px 1px 3px 1px rgba(60, 64, 67, 0.15);\n",
              "      fill: #174EA6;\n",
              "    }\n",
              "\n",
              "    .colab-df-buttons div {\n",
              "      margin-bottom: 4px;\n",
              "    }\n",
              "\n",
              "    [theme=dark] .colab-df-convert {\n",
              "      background-color: #3B4455;\n",
              "      fill: #D2E3FC;\n",
              "    }\n",
              "\n",
              "    [theme=dark] .colab-df-convert:hover {\n",
              "      background-color: #434B5C;\n",
              "      box-shadow: 0px 1px 3px 1px rgba(0, 0, 0, 0.15);\n",
              "      filter: drop-shadow(0px 1px 2px rgba(0, 0, 0, 0.3));\n",
              "      fill: #FFFFFF;\n",
              "    }\n",
              "  </style>\n",
              "\n",
              "    <script>\n",
              "      const buttonEl =\n",
              "        document.querySelector('#df-4a710ea1-73c5-4204-81b5-770d2143f9d2 button.colab-df-convert');\n",
              "      buttonEl.style.display =\n",
              "        google.colab.kernel.accessAllowed ? 'block' : 'none';\n",
              "\n",
              "      async function convertToInteractive(key) {\n",
              "        const element = document.querySelector('#df-4a710ea1-73c5-4204-81b5-770d2143f9d2');\n",
              "        const dataTable =\n",
              "          await google.colab.kernel.invokeFunction('convertToInteractive',\n",
              "                                                    [key], {});\n",
              "        if (!dataTable) return;\n",
              "\n",
              "        const docLinkHtml = 'Like what you see? Visit the ' +\n",
              "          '<a target=\"_blank\" href=https://colab.research.google.com/notebooks/data_table.ipynb>data table notebook</a>'\n",
              "          + ' to learn more about interactive tables.';\n",
              "        element.innerHTML = '';\n",
              "        dataTable['output_type'] = 'display_data';\n",
              "        await google.colab.output.renderOutput(dataTable, element);\n",
              "        const docLink = document.createElement('div');\n",
              "        docLink.innerHTML = docLinkHtml;\n",
              "        element.appendChild(docLink);\n",
              "      }\n",
              "    </script>\n",
              "  </div>\n",
              "\n",
              "\n",
              "<div id=\"df-072bc378-2d45-4290-b871-c74a74cd30e9\">\n",
              "  <button class=\"colab-df-quickchart\" onclick=\"quickchart('df-072bc378-2d45-4290-b871-c74a74cd30e9')\"\n",
              "            title=\"Suggest charts\"\n",
              "            style=\"display:none;\">\n",
              "\n",
              "<svg xmlns=\"http://www.w3.org/2000/svg\" height=\"24px\"viewBox=\"0 0 24 24\"\n",
              "     width=\"24px\">\n",
              "    <g>\n",
              "        <path d=\"M19 3H5c-1.1 0-2 .9-2 2v14c0 1.1.9 2 2 2h14c1.1 0 2-.9 2-2V5c0-1.1-.9-2-2-2zM9 17H7v-7h2v7zm4 0h-2V7h2v10zm4 0h-2v-4h2v4z\"/>\n",
              "    </g>\n",
              "</svg>\n",
              "  </button>\n",
              "\n",
              "<style>\n",
              "  .colab-df-quickchart {\n",
              "      --bg-color: #E8F0FE;\n",
              "      --fill-color: #1967D2;\n",
              "      --hover-bg-color: #E2EBFA;\n",
              "      --hover-fill-color: #174EA6;\n",
              "      --disabled-fill-color: #AAA;\n",
              "      --disabled-bg-color: #DDD;\n",
              "  }\n",
              "\n",
              "  [theme=dark] .colab-df-quickchart {\n",
              "      --bg-color: #3B4455;\n",
              "      --fill-color: #D2E3FC;\n",
              "      --hover-bg-color: #434B5C;\n",
              "      --hover-fill-color: #FFFFFF;\n",
              "      --disabled-bg-color: #3B4455;\n",
              "      --disabled-fill-color: #666;\n",
              "  }\n",
              "\n",
              "  .colab-df-quickchart {\n",
              "    background-color: var(--bg-color);\n",
              "    border: none;\n",
              "    border-radius: 50%;\n",
              "    cursor: pointer;\n",
              "    display: none;\n",
              "    fill: var(--fill-color);\n",
              "    height: 32px;\n",
              "    padding: 0;\n",
              "    width: 32px;\n",
              "  }\n",
              "\n",
              "  .colab-df-quickchart:hover {\n",
              "    background-color: var(--hover-bg-color);\n",
              "    box-shadow: 0 1px 2px rgba(60, 64, 67, 0.3), 0 1px 3px 1px rgba(60, 64, 67, 0.15);\n",
              "    fill: var(--button-hover-fill-color);\n",
              "  }\n",
              "\n",
              "  .colab-df-quickchart-complete:disabled,\n",
              "  .colab-df-quickchart-complete:disabled:hover {\n",
              "    background-color: var(--disabled-bg-color);\n",
              "    fill: var(--disabled-fill-color);\n",
              "    box-shadow: none;\n",
              "  }\n",
              "\n",
              "  .colab-df-spinner {\n",
              "    border: 2px solid var(--fill-color);\n",
              "    border-color: transparent;\n",
              "    border-bottom-color: var(--fill-color);\n",
              "    animation:\n",
              "      spin 1s steps(1) infinite;\n",
              "  }\n",
              "\n",
              "  @keyframes spin {\n",
              "    0% {\n",
              "      border-color: transparent;\n",
              "      border-bottom-color: var(--fill-color);\n",
              "      border-left-color: var(--fill-color);\n",
              "    }\n",
              "    20% {\n",
              "      border-color: transparent;\n",
              "      border-left-color: var(--fill-color);\n",
              "      border-top-color: var(--fill-color);\n",
              "    }\n",
              "    30% {\n",
              "      border-color: transparent;\n",
              "      border-left-color: var(--fill-color);\n",
              "      border-top-color: var(--fill-color);\n",
              "      border-right-color: var(--fill-color);\n",
              "    }\n",
              "    40% {\n",
              "      border-color: transparent;\n",
              "      border-right-color: var(--fill-color);\n",
              "      border-top-color: var(--fill-color);\n",
              "    }\n",
              "    60% {\n",
              "      border-color: transparent;\n",
              "      border-right-color: var(--fill-color);\n",
              "    }\n",
              "    80% {\n",
              "      border-color: transparent;\n",
              "      border-right-color: var(--fill-color);\n",
              "      border-bottom-color: var(--fill-color);\n",
              "    }\n",
              "    90% {\n",
              "      border-color: transparent;\n",
              "      border-bottom-color: var(--fill-color);\n",
              "    }\n",
              "  }\n",
              "</style>\n",
              "\n",
              "  <script>\n",
              "    async function quickchart(key) {\n",
              "      const quickchartButtonEl =\n",
              "        document.querySelector('#' + key + ' button');\n",
              "      quickchartButtonEl.disabled = true;  // To prevent multiple clicks.\n",
              "      quickchartButtonEl.classList.add('colab-df-spinner');\n",
              "      try {\n",
              "        const charts = await google.colab.kernel.invokeFunction(\n",
              "            'suggestCharts', [key], {});\n",
              "      } catch (error) {\n",
              "        console.error('Error during call to suggestCharts:', error);\n",
              "      }\n",
              "      quickchartButtonEl.classList.remove('colab-df-spinner');\n",
              "      quickchartButtonEl.classList.add('colab-df-quickchart-complete');\n",
              "    }\n",
              "    (() => {\n",
              "      let quickchartButtonEl =\n",
              "        document.querySelector('#df-072bc378-2d45-4290-b871-c74a74cd30e9 button');\n",
              "      quickchartButtonEl.style.display =\n",
              "        google.colab.kernel.accessAllowed ? 'block' : 'none';\n",
              "    })();\n",
              "  </script>\n",
              "</div>\n",
              "\n",
              "    </div>\n",
              "  </div>\n"
            ]
          },
          "metadata": {},
          "execution_count": 29
        }
      ]
    },
    {
      "cell_type": "code",
      "source": [
        "questao9E.T.corr()"
      ],
      "metadata": {
        "id": "R3SRz28ZxbXh",
        "colab": {
          "base_uri": "https://localhost:8080/",
          "height": 237
        },
        "outputId": "2fbfd693-a3b7-47ee-831d-78a373ce3dcb"
      },
      "execution_count": 30,
      "outputs": [
        {
          "output_type": "execute_result",
          "data": {
            "text/plain": [
              "Regiao - Sigla        CO         N        NE         S        SE\n",
              "Regiao - Sigla                                                  \n",
              "CO              1.000000 -0.187783  0.443333  0.044705  0.053108\n",
              "N              -0.187783  1.000000 -0.234560 -0.127789 -0.360588\n",
              "NE              0.443333 -0.234560  1.000000 -0.224025 -0.411364\n",
              "S               0.044705 -0.127789 -0.224025  1.000000  0.486515\n",
              "SE              0.053108 -0.360588 -0.411364  0.486515  1.000000"
            ],
            "text/html": [
              "\n",
              "  <div id=\"df-7c003e60-ebe1-43af-bdba-aa232555f1ca\" class=\"colab-df-container\">\n",
              "    <div>\n",
              "<style scoped>\n",
              "    .dataframe tbody tr th:only-of-type {\n",
              "        vertical-align: middle;\n",
              "    }\n",
              "\n",
              "    .dataframe tbody tr th {\n",
              "        vertical-align: top;\n",
              "    }\n",
              "\n",
              "    .dataframe thead th {\n",
              "        text-align: right;\n",
              "    }\n",
              "</style>\n",
              "<table border=\"1\" class=\"dataframe\">\n",
              "  <thead>\n",
              "    <tr style=\"text-align: right;\">\n",
              "      <th>Regiao - Sigla</th>\n",
              "      <th>CO</th>\n",
              "      <th>N</th>\n",
              "      <th>NE</th>\n",
              "      <th>S</th>\n",
              "      <th>SE</th>\n",
              "    </tr>\n",
              "    <tr>\n",
              "      <th>Regiao - Sigla</th>\n",
              "      <th></th>\n",
              "      <th></th>\n",
              "      <th></th>\n",
              "      <th></th>\n",
              "      <th></th>\n",
              "    </tr>\n",
              "  </thead>\n",
              "  <tbody>\n",
              "    <tr>\n",
              "      <th>CO</th>\n",
              "      <td>1.000000</td>\n",
              "      <td>-0.187783</td>\n",
              "      <td>0.443333</td>\n",
              "      <td>0.044705</td>\n",
              "      <td>0.053108</td>\n",
              "    </tr>\n",
              "    <tr>\n",
              "      <th>N</th>\n",
              "      <td>-0.187783</td>\n",
              "      <td>1.000000</td>\n",
              "      <td>-0.234560</td>\n",
              "      <td>-0.127789</td>\n",
              "      <td>-0.360588</td>\n",
              "    </tr>\n",
              "    <tr>\n",
              "      <th>NE</th>\n",
              "      <td>0.443333</td>\n",
              "      <td>-0.234560</td>\n",
              "      <td>1.000000</td>\n",
              "      <td>-0.224025</td>\n",
              "      <td>-0.411364</td>\n",
              "    </tr>\n",
              "    <tr>\n",
              "      <th>S</th>\n",
              "      <td>0.044705</td>\n",
              "      <td>-0.127789</td>\n",
              "      <td>-0.224025</td>\n",
              "      <td>1.000000</td>\n",
              "      <td>0.486515</td>\n",
              "    </tr>\n",
              "    <tr>\n",
              "      <th>SE</th>\n",
              "      <td>0.053108</td>\n",
              "      <td>-0.360588</td>\n",
              "      <td>-0.411364</td>\n",
              "      <td>0.486515</td>\n",
              "      <td>1.000000</td>\n",
              "    </tr>\n",
              "  </tbody>\n",
              "</table>\n",
              "</div>\n",
              "    <div class=\"colab-df-buttons\">\n",
              "\n",
              "  <div class=\"colab-df-container\">\n",
              "    <button class=\"colab-df-convert\" onclick=\"convertToInteractive('df-7c003e60-ebe1-43af-bdba-aa232555f1ca')\"\n",
              "            title=\"Convert this dataframe to an interactive table.\"\n",
              "            style=\"display:none;\">\n",
              "\n",
              "  <svg xmlns=\"http://www.w3.org/2000/svg\" height=\"24px\" viewBox=\"0 -960 960 960\">\n",
              "    <path d=\"M120-120v-720h720v720H120Zm60-500h600v-160H180v160Zm220 220h160v-160H400v160Zm0 220h160v-160H400v160ZM180-400h160v-160H180v160Zm440 0h160v-160H620v160ZM180-180h160v-160H180v160Zm440 0h160v-160H620v160Z\"/>\n",
              "  </svg>\n",
              "    </button>\n",
              "\n",
              "  <style>\n",
              "    .colab-df-container {\n",
              "      display:flex;\n",
              "      gap: 12px;\n",
              "    }\n",
              "\n",
              "    .colab-df-convert {\n",
              "      background-color: #E8F0FE;\n",
              "      border: none;\n",
              "      border-radius: 50%;\n",
              "      cursor: pointer;\n",
              "      display: none;\n",
              "      fill: #1967D2;\n",
              "      height: 32px;\n",
              "      padding: 0 0 0 0;\n",
              "      width: 32px;\n",
              "    }\n",
              "\n",
              "    .colab-df-convert:hover {\n",
              "      background-color: #E2EBFA;\n",
              "      box-shadow: 0px 1px 2px rgba(60, 64, 67, 0.3), 0px 1px 3px 1px rgba(60, 64, 67, 0.15);\n",
              "      fill: #174EA6;\n",
              "    }\n",
              "\n",
              "    .colab-df-buttons div {\n",
              "      margin-bottom: 4px;\n",
              "    }\n",
              "\n",
              "    [theme=dark] .colab-df-convert {\n",
              "      background-color: #3B4455;\n",
              "      fill: #D2E3FC;\n",
              "    }\n",
              "\n",
              "    [theme=dark] .colab-df-convert:hover {\n",
              "      background-color: #434B5C;\n",
              "      box-shadow: 0px 1px 3px 1px rgba(0, 0, 0, 0.15);\n",
              "      filter: drop-shadow(0px 1px 2px rgba(0, 0, 0, 0.3));\n",
              "      fill: #FFFFFF;\n",
              "    }\n",
              "  </style>\n",
              "\n",
              "    <script>\n",
              "      const buttonEl =\n",
              "        document.querySelector('#df-7c003e60-ebe1-43af-bdba-aa232555f1ca button.colab-df-convert');\n",
              "      buttonEl.style.display =\n",
              "        google.colab.kernel.accessAllowed ? 'block' : 'none';\n",
              "\n",
              "      async function convertToInteractive(key) {\n",
              "        const element = document.querySelector('#df-7c003e60-ebe1-43af-bdba-aa232555f1ca');\n",
              "        const dataTable =\n",
              "          await google.colab.kernel.invokeFunction('convertToInteractive',\n",
              "                                                    [key], {});\n",
              "        if (!dataTable) return;\n",
              "\n",
              "        const docLinkHtml = 'Like what you see? Visit the ' +\n",
              "          '<a target=\"_blank\" href=https://colab.research.google.com/notebooks/data_table.ipynb>data table notebook</a>'\n",
              "          + ' to learn more about interactive tables.';\n",
              "        element.innerHTML = '';\n",
              "        dataTable['output_type'] = 'display_data';\n",
              "        await google.colab.output.renderOutput(dataTable, element);\n",
              "        const docLink = document.createElement('div');\n",
              "        docLink.innerHTML = docLinkHtml;\n",
              "        element.appendChild(docLink);\n",
              "      }\n",
              "    </script>\n",
              "  </div>\n",
              "\n",
              "\n",
              "<div id=\"df-8359944c-77a0-4c00-95dc-4c93a3f881f6\">\n",
              "  <button class=\"colab-df-quickchart\" onclick=\"quickchart('df-8359944c-77a0-4c00-95dc-4c93a3f881f6')\"\n",
              "            title=\"Suggest charts\"\n",
              "            style=\"display:none;\">\n",
              "\n",
              "<svg xmlns=\"http://www.w3.org/2000/svg\" height=\"24px\"viewBox=\"0 0 24 24\"\n",
              "     width=\"24px\">\n",
              "    <g>\n",
              "        <path d=\"M19 3H5c-1.1 0-2 .9-2 2v14c0 1.1.9 2 2 2h14c1.1 0 2-.9 2-2V5c0-1.1-.9-2-2-2zM9 17H7v-7h2v7zm4 0h-2V7h2v10zm4 0h-2v-4h2v4z\"/>\n",
              "    </g>\n",
              "</svg>\n",
              "  </button>\n",
              "\n",
              "<style>\n",
              "  .colab-df-quickchart {\n",
              "      --bg-color: #E8F0FE;\n",
              "      --fill-color: #1967D2;\n",
              "      --hover-bg-color: #E2EBFA;\n",
              "      --hover-fill-color: #174EA6;\n",
              "      --disabled-fill-color: #AAA;\n",
              "      --disabled-bg-color: #DDD;\n",
              "  }\n",
              "\n",
              "  [theme=dark] .colab-df-quickchart {\n",
              "      --bg-color: #3B4455;\n",
              "      --fill-color: #D2E3FC;\n",
              "      --hover-bg-color: #434B5C;\n",
              "      --hover-fill-color: #FFFFFF;\n",
              "      --disabled-bg-color: #3B4455;\n",
              "      --disabled-fill-color: #666;\n",
              "  }\n",
              "\n",
              "  .colab-df-quickchart {\n",
              "    background-color: var(--bg-color);\n",
              "    border: none;\n",
              "    border-radius: 50%;\n",
              "    cursor: pointer;\n",
              "    display: none;\n",
              "    fill: var(--fill-color);\n",
              "    height: 32px;\n",
              "    padding: 0;\n",
              "    width: 32px;\n",
              "  }\n",
              "\n",
              "  .colab-df-quickchart:hover {\n",
              "    background-color: var(--hover-bg-color);\n",
              "    box-shadow: 0 1px 2px rgba(60, 64, 67, 0.3), 0 1px 3px 1px rgba(60, 64, 67, 0.15);\n",
              "    fill: var(--button-hover-fill-color);\n",
              "  }\n",
              "\n",
              "  .colab-df-quickchart-complete:disabled,\n",
              "  .colab-df-quickchart-complete:disabled:hover {\n",
              "    background-color: var(--disabled-bg-color);\n",
              "    fill: var(--disabled-fill-color);\n",
              "    box-shadow: none;\n",
              "  }\n",
              "\n",
              "  .colab-df-spinner {\n",
              "    border: 2px solid var(--fill-color);\n",
              "    border-color: transparent;\n",
              "    border-bottom-color: var(--fill-color);\n",
              "    animation:\n",
              "      spin 1s steps(1) infinite;\n",
              "  }\n",
              "\n",
              "  @keyframes spin {\n",
              "    0% {\n",
              "      border-color: transparent;\n",
              "      border-bottom-color: var(--fill-color);\n",
              "      border-left-color: var(--fill-color);\n",
              "    }\n",
              "    20% {\n",
              "      border-color: transparent;\n",
              "      border-left-color: var(--fill-color);\n",
              "      border-top-color: var(--fill-color);\n",
              "    }\n",
              "    30% {\n",
              "      border-color: transparent;\n",
              "      border-left-color: var(--fill-color);\n",
              "      border-top-color: var(--fill-color);\n",
              "      border-right-color: var(--fill-color);\n",
              "    }\n",
              "    40% {\n",
              "      border-color: transparent;\n",
              "      border-right-color: var(--fill-color);\n",
              "      border-top-color: var(--fill-color);\n",
              "    }\n",
              "    60% {\n",
              "      border-color: transparent;\n",
              "      border-right-color: var(--fill-color);\n",
              "    }\n",
              "    80% {\n",
              "      border-color: transparent;\n",
              "      border-right-color: var(--fill-color);\n",
              "      border-bottom-color: var(--fill-color);\n",
              "    }\n",
              "    90% {\n",
              "      border-color: transparent;\n",
              "      border-bottom-color: var(--fill-color);\n",
              "    }\n",
              "  }\n",
              "</style>\n",
              "\n",
              "  <script>\n",
              "    async function quickchart(key) {\n",
              "      const quickchartButtonEl =\n",
              "        document.querySelector('#' + key + ' button');\n",
              "      quickchartButtonEl.disabled = true;  // To prevent multiple clicks.\n",
              "      quickchartButtonEl.classList.add('colab-df-spinner');\n",
              "      try {\n",
              "        const charts = await google.colab.kernel.invokeFunction(\n",
              "            'suggestCharts', [key], {});\n",
              "      } catch (error) {\n",
              "        console.error('Error during call to suggestCharts:', error);\n",
              "      }\n",
              "      quickchartButtonEl.classList.remove('colab-df-spinner');\n",
              "      quickchartButtonEl.classList.add('colab-df-quickchart-complete');\n",
              "    }\n",
              "    (() => {\n",
              "      let quickchartButtonEl =\n",
              "        document.querySelector('#df-8359944c-77a0-4c00-95dc-4c93a3f881f6 button');\n",
              "      quickchartButtonEl.style.display =\n",
              "        google.colab.kernel.accessAllowed ? 'block' : 'none';\n",
              "    })();\n",
              "  </script>\n",
              "</div>\n",
              "\n",
              "    </div>\n",
              "  </div>\n"
            ]
          },
          "metadata": {},
          "execution_count": 30
        }
      ]
    },
    {
      "cell_type": "markdown",
      "source": [
        "# <font color = \"green\"> Pergunta 12: Qual é a variação percentual dos preços da gasolina e do etanol em cada estado durante os dois meses citados?"
      ],
      "metadata": {
        "id": "2vPVjiSUaQNn"
      }
    },
    {
      "cell_type": "code",
      "source": [
        "import pandas as pd\n",
        "import matplotlib.pyplot as plt\n",
        "\n",
        "# Arquivos dos dois últimos meses de 2023\n",
        "nov = pd.read_csv('/content/precos-gasolina-etanol-11.csv', sep=';')\n",
        "dez = pd.read_csv('/content/precos-gasolina-etanol-12.csv', sep=';')\n",
        "\n",
        "# Concatenando os dataframes\n",
        "df = pd.concat([nov, dez])\n",
        "\n",
        "# Verificando se 'Valor de Venda' é do tipo string\n",
        "if df['Valor de Venda'].dtypes == object:\n",
        "    # Substituindo vírgulas por pontos e convertendo para float\n",
        "    df['Valor de Venda'] = df['Valor de Venda'].str.replace(',', '.').astype(float)\n",
        "\n",
        "# Definindo as variáveis de preço de acordo com o valor de venda\n",
        "df['preco_gasolina'] = df['Valor de Venda']\n",
        "df['preco_etanol'] = df['Valor de Venda']\n",
        "\n",
        "# Tratando valores None ou NaN e calculando a variação percentual dos preços\n",
        "df['preco_gasolina'] = df['preco_gasolina'].fillna(method='ffill')\n",
        "df['preco_etanol'] = df['preco_etanol'].fillna(method='ffill')\n",
        "df['variacao_gasolina'] = df['preco_gasolina'].pct_change()\n",
        "df['variacao_etanol'] = df['preco_etanol'].pct_change()\n",
        "\n",
        "# Agrupando por estado e calcule a média\n",
        "df_grouped = df.groupby('Estado - Sigla')[['variacao_gasolina', 'variacao_etanol']].mean()\n",
        "\n",
        "# Criando um gráfico de barras para visualizar os resultados\n",
        "ax = df_grouped.plot(kind='bar', figsize=(10, 6))\n",
        "plt.title('Variação percentual dos preços da gasolina e do etanol')\n",
        "plt.ylabel('Variação percentual')\n",
        "plt.show()\n",
        "\n",
        "\n",
        "\n",
        "\n",
        "\n",
        "\n",
        "\n"
      ],
      "metadata": {
        "id": "QZU5vHx6YAWO",
        "colab": {
          "base_uri": "https://localhost:8080/",
          "height": 573
        },
        "outputId": "875174a4-6999-4182-dc85-b4d8e9631be7"
      },
      "execution_count": null,
      "outputs": [
        {
          "output_type": "display_data",
          "data": {
            "text/plain": [
              "<Figure size 1000x600 with 1 Axes>"
            ],
            "image/png": "[encoded data removed]"
          },
          "metadata": {}
        }
      ]
    },
    {
      "cell_type": "markdown",
      "source": [
        "#Informações Gerais do DataFrame:\n",
        "O DataFrame tem um total de 101.996 entradas (linhas). As colunas variam em termos de tipo de dados, incluindo principalmente objetos (strings) e um float64. Algumas colunas têm valores nulos, como \"Numero Rua\", \"Complemento\" e \"Bairro\". A coluna \"Valor de Compra\" parece ter todos os valores nulos. Possíveis Ações de Limpeza/Tratamento:\n",
        "\n",
        "Valores Nulos: Pode ser necessário lidar com os valores nulos nas colunas \"Numero Rua\", \"Complemento\" e \"Bairro\". Dependendo do contexto, você pode preencher os valores nulos com informações apropriadas ou remover as linhas. Coluna \"Valor de Compra\": A coluna \"Valor de Compra\" parece estar completamente vazia. Se não for necessária, você pode considerar removê-la. Tipos de Dados: A coluna \"Valor de Venda\" está atualmente como objeto. Se ela contiver informações numéricas, pode ser útil convertê-la para um tipo de dados numérico, como float. Data da Coleta: Se a coluna \"Data da Coleta\" estiver como objeto, você pode convertê-la para o tipo de dados de data para facilitar análises temporais."
      ],
      "metadata": {
        "id": "T7agWRVCDruh"
      }
    },
    {
      "cell_type": "code",
      "execution_count": null,
      "metadata": {
        "id": "5EFu2Q6aezBO"
      },
      "outputs": [],
      "source": [
        "import pandas as pd\n",
        "import numpy as np\n",
        "\n",
        "\n",
        "# Agora você pode usar o DataFrame 'df' nos cálculos e análises mencionados no código anterior.\n",
        "\n",
        "# Supondo que você tenha um DataFrame chamado 'df' com os dados dos combustíveis\n",
        "\n",
        "# 1. Tendência de queda ou aumento nos preços dos combustíveis\n",
        "tendencia_gasolina = df['Preco_Gasolina'].diff().mean()\n",
        "tendencia_etanol = df['Preco_Etanol'].diff().mean()\n",
        "\n",
        "# 2. Preço médio da gasolina e do etanol\n",
        "preco_medio_gasolina = df['Preco_Gasolina'].mean()\n",
        "preco_medio_etanol = df['Preco_Etanol'].mean()\n",
        "\n",
        "# 3. Os 5 estados com os preços médios mais altos\n",
        "estados_mais_caros_gasolina = df.groupby('Estado')['Preco_Gasolina'].mean().nlargest(5)\n",
        "estados_mais_caros_etanol = df.groupby('Estado')['Preco_Etanol'].mean().nlargest(5)\n",
        "\n",
        "# 4. Preço médio por estado\n",
        "preco_medio_por_estado = df.groupby('Estado')[['Preco_Gasolina', 'Preco_Etanol']].mean()\n",
        "\n",
        "# 5 e 6. Municípios com menor e maior preço\n",
        "municipio_menor_preco_gasolina = df.loc[df['Preco_Gasolina'].idxmin()]['Municipio']\n",
        "municipio_menor_preco_etanol = df.loc[df['Preco_Etanol'].idxmin()]['Municipio']\n",
        "municipio_maior_preco_gasolina = df.loc[df['Preco_Gasolina'].idxmax()]['Municipio']\n",
        "municipio_maior_preco_etanol = df.loc[df['Preco_Etanol'].idxmax()]['Municipio']\n",
        "\n",
        "# 7 e 8. Região com maior e menor valor médio\n",
        "regiao_maior_valor_gasolina = df.groupby('Regiao')['Preco_Gasolina'].mean().idxmax()\n",
        "regiao_menor_valor_etanol = df.groupby('Regiao')['Preco_Etanol'].mean().idxmin()\n",
        "\n",
        "# 9. Correlação entre preço e região\n",
        "correlacao_regiao_gasolina = df['Preco_Gasolina'].corr(df['Regiao'])\n",
        "correlacao_regiao_etanol = df['Preco_Etanol'].corr(df['Regiao'])\n",
        "\n",
        "# 10. Correlação entre preço e bandeira\n",
        "correlacao_bandeira_gasolina = df['Preco_Gasolina'].corr(df['Bandeira'])\n",
        "correlacao_bandeira_etanol = df['Preco_Etanol'].corr(df['Bandeira'])\n",
        "\n",
        "# Suas três perguntas adicionais aqui\n",
        "\n",
        "print(f\"1. Tendência de queda ou aumento nos preços da gasolina: {tendencia_gasolina}\")\n",
        "print(f\"   Tendência de queda ou aumento nos preços do etanol: {tendencia_etanol}\")\n",
        "print(f\"2. Preço médio da gasolina: {preco_medio_gasolina}\")\n",
        "print(f\"   Preço médio do etanol: {preco_medio_etanol}\")\n",
        "print(f\"3. Estados com os preços médios mais altos (gasolina): {estados_mais_caros_gasolina}\")\n",
        "print(f\"   Estados com os preços médios mais altos (etanol): {estados_mais_caros_etanol}\")\n",
        "print(f\"4. Preço médio por estado:\\n{preco_medio_por_estado}\")\n",
        "print(f\"5. Município com menor preço para gasolina: {municipio_menor_preco_gasolina}\")\n",
        "print(f\"   Município com menor preço para etanol: {municipio_menor_preco_etanol}\")\n",
        "print(f\"6. Município com maior preço para gasolina: {municipio_maior_preco_gasolina}\")\n",
        "print(f\"   Município com maior preço para etanol: {municipio_maior_preco_etanol}\")\n",
        "print(f\"7. Região com maior valor médio da gasolina: {regiao_maior_valor_gasolina}\")\n",
        "print(f\"8. Região com menor valor médio do etanol: {regiao_menor_valor_etanol}\")\n",
        "print(f\"9. Correlação entre preço e região (gasolina): {correlacao_regiao_gasolina}\")\n",
        "print(f\"   Correlação entre preço e região (etanol): {correlacao_regiao_etanol}\")\n",
        "print(f\"10. Correlação entre preço e bandeira (gasolina): {correlacao_bandeira_gasolina}\")\n",
        "print(f\"    Correlação entre preço e bandeira (etanol): {correlacao_bandeira_etanol}\")\n"
      ]
    },
    {
      "cell_type": "code",
      "execution_count": null,
      "metadata": {
        "id": "BQurnP995klD"
      },
      "outputs": [],
      "source": [
        "import pandas as pd\n",
        "import numpy as np\n",
        "\n",
        "\n",
        "# 1. Tendência de queda ou aumento nos preços dos combustíveis\n",
        "tendencia_gasolina = df['Preco_Gasolina'].diff().mean()\n",
        "tendencia_etanol = df['Preco_Etanol'].diff().mean()\n",
        "\n",
        "# 2. Preço médio da gasolina e do etanol\n",
        "preco_medio_gasolina = df['Preco_Gasolina'].mean()\n",
        "preco_medio_etanol = df['Preco_Etanol'].mean()\n",
        "\n",
        "# 3. Os 5 estados com os preços médios mais altos\n",
        "estados_mais_caros_gasolina = df.groupby('Estado')['Preco_Gasolina'].mean().nlargest(5)\n",
        "estados_mais_caros_etanol = df.groupby('Estado')['Preco_Etanol'].mean().nlargest(5)\n",
        "\n",
        "# 4. Preço médio por estado\n",
        "preco_medio_por_estado = df.groupby('Estado')[['Preco_Gasolina', 'Preco_Etanol']].mean()\n",
        "\n",
        "# 5 e 6. Municípios com menor e maior preço\n",
        "municipio_menor_preco_gasolina = df.loc[df['Preco_Gasolina'].idxmin()]['Municipio']\n",
        "municipio_menor_preco_etanol = df.loc[df['Preco_Etanol'].idxmin()]['Municipio']\n",
        "municipio_maior_preco_gasolina = df.loc[df['Preco_Gasolina'].idxmax()]['Municipio']\n",
        "municipio_maior_preco_etanol = df.loc[df['Preco_Etanol'].idxmax()]['Municipio']\n",
        "\n",
        "# 7 e 8. Região com maior e menor valor médio\n",
        "regiao_maior_valor_gasolina = df.groupby('Regiao')['Preco_Gasolina'].mean().idxmax()\n",
        "regiao_menor_valor_etanol = df.groupby('Regiao')['Preco_Etanol'].mean().idxmin()\n",
        "\n",
        "print(f\"1. Tendência de queda ou aumento nos preços da gasolina: {tendencia_gasolina}\")\n",
        "print(f\"   Tendência de queda ou aumento nos preços do etanol: {tendencia_etanol}\")\n",
        "print(f\"2. Preço médio da gasolina: {preco_medio_gasolina}\")\n",
        "print(f\"   Preço médio do etanol: {preco_medio_etanol}\")\n",
        "print(f\"3. Estados com os preços médios mais altos (gasolina): {estados_mais_caros_gasolina}\")\n",
        "print(f\"   Estados com os preços médios mais altos (etanol): {estados_mais_caros_etanol}\")\n",
        "print(f\"4. Preço médio por estado:\\n{preco_medio_por_estado}\")\n",
        "print(f\"5. Município com menor preço para gasolina: {municipio_menor_preco_gasolina}\")\n",
        "print(f\"   Município com menor preço para etanol: {municipio_menor_preco_etanol}\")\n",
        "print(f\"6. Município com maior preço para gasolina: {municipio_maior_preco_gasolina}\")\n",
        "print(f\"   Município com maior preço para etanol: {municipio_maior_preco_etanol}\")\n",
        "print(f\"7. Região com maior valor médio da gasolina: {regiao_maior_valor_gasolina}\")\n",
        "print(f\"8. Região com menor valor médio do etanol: {regiao_menor_valor_etanol}\")"
      ]
    }
  ],
  "metadata": {
    "accelerator": "GPU",
    "colab": {
      "provenance": [],
      "collapsed_sections": [
        "btluTwk-C2O7",
        "lKf5AKkwLVmT",
        "Qghz8DjTLf_7",
        "eGM2D2N1wOCy",
        "6B7Sjo6Rwz7q",
        "mZ74xq_zw47K",
        "T7agWRVCDruh"
      ],
      "include_colab_link": true
    },
    "kernelspec": {
      "display_name": "Python 3",
      "name": "python3"
    },
    "language_info": {
      "name": "python"
    }
  },
  "nbformat": 4,
  "nbformat_minor": 0
}