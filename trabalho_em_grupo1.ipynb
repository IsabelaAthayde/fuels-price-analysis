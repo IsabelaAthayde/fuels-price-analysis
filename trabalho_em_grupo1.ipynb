{
  "cells": [
    {
      "cell_type": "markdown",
      "metadata": {
        "id": "view-in-github",
        "colab_type": "text"
      },
      "source": [
        "<a href=\"https://colab.research.google.com/github/IsabelaAthayde/fuels-price-analysis/blob/main/trabalho_em_grupo1.ipynb\" target=\"_parent\"><img src=\"https://colab.research.google.com/assets/colab-badge.svg\" alt=\"Open In Colab\"/></a>"
      ]
    },
    {
      "cell_type": "markdown",
      "metadata": {
        "id": "Xl22N6EaeXFO"
      },
      "source": [
        "<Font size='15rem' color=\"lightgreen\" /> <center>Projeto em Grupo</center>"
      ]
    },
    {
      "cell_type": "code",
      "execution_count": null,
      "metadata": {
        "id": "TdKUFftGTk-p"
      },
      "outputs": [],
      "source": [
        "# Adicione as todas importações aqui\n",
        "\n",
        "import pandas as pd\n",
        "import numpy as np\n",
        "\n",
        "import seaborn as sns\n",
        "\n",
        "import matplotlib.pyplot as plt\n",
        "from matplotlib import cm\n",
        "import matplotlib.colors as mcolors\n",
        "\n",
        "# Para criação de mapa\n",
        "import geopandas as gpd"
      ]
    },
    {
      "cell_type": "markdown",
      "metadata": {
        "id": "zLiqLEeDEY-r"
      },
      "source": [
        "# Verifique se você já possui os arquivos antes de continuar"
      ]
    },
    {
      "cell_type": "markdown",
      "source": [
        " 1. <font color=\"green\" size=\"4rem\"/> Arquivos do df de preços"
      ],
      "metadata": {
        "id": "uqrDo73lpHxi"
      }
    },
    {
      "cell_type": "code",
      "execution_count": null,
      "metadata": {
        "colab": {
          "base_uri": "https://localhost:8080/"
        },
        "id": "s6iTeaZbEenx",
        "outputId": "ed0ca5c3-a4b6-41e4-a254-100e39e1e0ea"
      },
      "outputs": [
        {
          "output_type": "stream",
          "name": "stdout",
          "text": [
            "Você já possui os arquivos 'precos-gasolina-etanol-11' e 'precos-gasolina-etanol-12'.\n"
          ]
        }
      ],
      "source": [
        "import os\n",
        "from google.colab import files\n",
        "\n",
        "# Verificar se os arquivos já existem\n",
        "arquivo_11 = '/content/precos-gasolina-etanol-11.csv'\n",
        "arquivo_12 = '/content/precos-gasolina-etanol-12.csv'\n",
        "\n",
        "if not (os.path.exists(arquivo_11) and os.path.exists(arquivo_12)):\n",
        "    print(\"Seu colab não possui os arquivos 'precos-gasolina-etanol-11' e 'precos-gasolina-etanol-12'.\\n\")\n",
        "\n",
        "    # Se o usuário não tiver os arquivos, fornecer links para download\n",
        "    print(\"Clique nos links abaixo para baixar os arquivos:\")\n",
        "\n",
        "    link_11 = 'https://www.gov.br/anp/pt-br/centrais-de-conteudo/dados-abertos/arquivos/shpc/dsan/2023/precos-gasolina-etanol-11.csv'\n",
        "    link_12 = 'https://www.gov.br/anp/pt-br/centrais-de-conteudo/dados-abertos/arquivos/shpc/dsan/2023/precos-gasolina-etanol-12.csv'\n",
        "\n",
        "    print(f\"1. Baixar 'precos-gasolina-etanol-11': {link_11}\")\n",
        "    print(f\"2. Baixar 'precos-gasolina-etanol-12': {link_12}\")\n",
        "    print('\\n-------------------------------------------\\n')\n",
        "    print('Ou Caso já possua os arquivos na sua máquina, selecione os arquivos:')\n",
        "\n",
        "    uploaded = files.upload()\n",
        "    # Após o upload, os arquivos podem ser manipulados no ambiente do Colab\n",
        "else:\n",
        "    print(\"Você já possui os arquivos 'precos-gasolina-etanol-11' e 'precos-gasolina-etanol-12'.\")\n"
      ]
    },
    {
      "cell_type": "markdown",
      "source": [
        "2. <font color=\"green\" size=\"4rem\"/>  Arquivo para o mapa do Brasil\n",
        "\n"
      ],
      "metadata": {
        "id": "HBbs-C8rpMQR"
      }
    },
    {
      "cell_type": "code",
      "source": [
        "import os\n",
        "from google.colab import files\n",
        "\n",
        "# Verificar se os arquivos já existem\n",
        "arquivos = ['/content/estados_2010.dbf', '/content/estados_2010.prj', '/content/estados_2010.qpj', '/content/estados_2010.shp', '/content/estados_2010.shx']\n",
        "\n",
        "# Verificar se todos os arquivos existem\n",
        "todos_existem = all(os.path.exists(arquivo) for arquivo in arquivos)\n",
        "\n",
        "if (todos_existem):\n",
        "    print(\"Você possuí todos os arquivos necessários no colab para rodar os mapas\")\n",
        "else:\n",
        "  for arq in arquivos:\n",
        "    if not (os.path.exists(arq)):\n",
        "        print(\"Você não possuí o arquivo\", arq)\n",
        "\n",
        "  print(f\"\\n1. Por favor acesse o link do drive e baixe os arquivos que faltam \")\n",
        "  print('https://docs.google.com/file/d/0B__Rg9h09RtfQU9jbEpxcW9xREk/edit?pli=1')\n",
        "  print(f\"2. Extraia os arquivos do zip/winrar, pegue os arquivos da pasta estados_2010 e o coloque todos eles dentro do colab\")\n",
        "  print('-------------------------------------------')\n",
        "\n"
      ],
      "metadata": {
        "id": "Oj--xLmMpP_O",
        "outputId": "1ad1ccba-d7a0-42fa-e113-5afdea5ee26a",
        "colab": {
          "base_uri": "https://localhost:8080/"
        }
      },
      "execution_count": null,
      "outputs": [
        {
          "output_type": "stream",
          "name": "stdout",
          "text": [
            "Você possuí todos os arquivos necessários no colab para rodar os mapas\n"
          ]
        }
      ]
    },
    {
      "cell_type": "markdown",
      "metadata": {
        "id": "3Rd83vk8eRaV"
      },
      "source": [
        "# Recebendo os arquivos reais e concatenando"
      ]
    },
    {
      "cell_type": "code",
      "execution_count": null,
      "metadata": {
        "id": "Q0mi6oXPX4_K",
        "outputId": "841ff626-4b3e-432a-e18b-cde502e92d01",
        "colab": {
          "base_uri": "https://localhost:8080/",
          "height": 615
        }
      },
      "outputs": [
        {
          "output_type": "display_data",
          "data": {
            "text/plain": [
              "      Regiao - Sigla Estado - Sigla            Municipio  \\\n",
              "0                 NE             AL  PALMEIRA DOS INDIOS   \n",
              "1                 NE             AL  PALMEIRA DOS INDIOS   \n",
              "2                 NE             AL  PALMEIRA DOS INDIOS   \n",
              "3                 NE             AL  PALMEIRA DOS INDIOS   \n",
              "4                 NE             AL  PALMEIRA DOS INDIOS   \n",
              "...              ...            ...                  ...   \n",
              "49448              S             PR          CAMPO LARGO   \n",
              "49449              S             PR          CAMPO LARGO   \n",
              "49450              S             RS               OSORIO   \n",
              "49451              S             RS               OSORIO   \n",
              "49452              S             RS               OSORIO   \n",
              "\n",
              "                                           Revenda      CNPJ da Revenda  \\\n",
              "0                    SEVERINO S. LOPES & CIA. LTDA   05.331.412/0002-09   \n",
              "1                    SEVERINO S. LOPES & CIA. LTDA   05.331.412/0002-09   \n",
              "2                    SEVERINO S. LOPES & CIA. LTDA   05.331.412/0002-09   \n",
              "3                      A. B. LESSA NETO & CIA LTDA   05.562.589/0001-35   \n",
              "4                      A. B. LESSA NETO & CIA LTDA   05.562.589/0001-35   \n",
              "...                                            ...                  ...   \n",
              "49448     AUTO POSTO IMPERADOR DE CAMPO LARGO LTDA   42.182.809/0001-21   \n",
              "49449     AUTO POSTO IMPERADOR DE CAMPO LARGO LTDA   42.182.809/0001-21   \n",
              "49450  POSTO ALDEIAO COMERCIO DE COMBUSTIVEIS LTDA   28.259.725/0002-07   \n",
              "49451  POSTO ALDEIAO COMERCIO DE COMBUSTIVEIS LTDA   28.259.725/0002-07   \n",
              "49452  POSTO ALDEIAO COMERCIO DE COMBUSTIVEIS LTDA   28.259.725/0002-07   \n",
              "\n",
              "                   Nome da Rua Numero Rua  \\\n",
              "0         AVENIDA MUNIZ FALCÃO       1640   \n",
              "1         AVENIDA MUNIZ FALCÃO       1640   \n",
              "2         AVENIDA MUNIZ FALCÃO       1640   \n",
              "3      AVENIDA VIEIRA DE BRITO       1888   \n",
              "4      AVENIDA VIEIRA DE BRITO       1888   \n",
              "...                        ...        ...   \n",
              "49448      RUA XAVIER DA SILVA       1596   \n",
              "49449      RUA XAVIER DA SILVA       1596   \n",
              "49450     AVENIDA JORGE DARIVA       1536   \n",
              "49451     AVENIDA JORGE DARIVA       1536   \n",
              "49452     AVENIDA JORGE DARIVA       1536   \n",
              "\n",
              "                                Complemento           Bairro        Cep  \\\n",
              "0      LOTES 08 E 09, LOT. GASTÃO LEÃO REGO  JOSÉ MAIA COSTA  57605-260   \n",
              "1      LOTES 08 E 09, LOT. GASTÃO LEÃO REGO  JOSÉ MAIA COSTA  57605-260   \n",
              "2      LOTES 08 E 09, LOT. GASTÃO LEÃO REGO  JOSÉ MAIA COSTA  57605-260   \n",
              "3                                       NaN       VILA MARIA  57607-570   \n",
              "4                                       NaN       VILA MARIA  57607-570   \n",
              "...                                     ...              ...        ...   \n",
              "49448                                   NaN           CENTRO  83601-010   \n",
              "49449                                   NaN           CENTRO  83601-010   \n",
              "49450                                   NaN           CENTRO  95520-000   \n",
              "49451                                   NaN           CENTRO  95520-000   \n",
              "49452                                   NaN           CENTRO  95520-000   \n",
              "\n",
              "                  Produto Data da Coleta Valor de Venda  Valor de Compra  \\\n",
              "0                GASOLINA     01/11/2023            6,3              NaN   \n",
              "1      GASOLINA ADITIVADA     01/11/2023            6,3              NaN   \n",
              "2                  ETANOL     01/11/2023           4,88              NaN   \n",
              "3                GASOLINA     01/11/2023           6,19              NaN   \n",
              "4      GASOLINA ADITIVADA     01/11/2023           6,29              NaN   \n",
              "...                   ...            ...            ...              ...   \n",
              "49448            GASOLINA     29/12/2023           5,79              NaN   \n",
              "49449              ETANOL     29/12/2023           3,79              NaN   \n",
              "49450            GASOLINA     29/12/2023           5,49              NaN   \n",
              "49451  GASOLINA ADITIVADA     29/12/2023           5,59              NaN   \n",
              "49452              ETANOL     29/12/2023           3,99              NaN   \n",
              "\n",
              "      Unidade de Medida  Bandeira  \n",
              "0            R$ / litro     VIBRA  \n",
              "1            R$ / litro     VIBRA  \n",
              "2            R$ / litro     VIBRA  \n",
              "3            R$ / litro     VIBRA  \n",
              "4            R$ / litro     VIBRA  \n",
              "...                 ...       ...  \n",
              "49448        R$ / litro  IPIRANGA  \n",
              "49449        R$ / litro  IPIRANGA  \n",
              "49450        R$ / litro    RODOIL  \n",
              "49451        R$ / litro    RODOIL  \n",
              "49452        R$ / litro    RODOIL  \n",
              "\n",
              "[101996 rows x 16 columns]"
            ],
            "text/html": [
              "\n",
              "  <div id=\"df-07d59fb5-afd1-446d-8a43-f2f405ba223d\" class=\"colab-df-container\">\n",
              "    <div>\n",
              "<style scoped>\n",
              "    .dataframe tbody tr th:only-of-type {\n",
              "        vertical-align: middle;\n",
              "    }\n",
              "\n",
              "    .dataframe tbody tr th {\n",
              "        vertical-align: top;\n",
              "    }\n",
              "\n",
              "    .dataframe thead th {\n",
              "        text-align: right;\n",
              "    }\n",
              "</style>\n",
              "<table border=\"1\" class=\"dataframe\">\n",
              "  <thead>\n",
              "    <tr style=\"text-align: right;\">\n",
              "      <th></th>\n",
              "      <th>Regiao - Sigla</th>\n",
              "      <th>Estado - Sigla</th>\n",
              "      <th>Municipio</th>\n",
              "      <th>Revenda</th>\n",
              "      <th>CNPJ da Revenda</th>\n",
              "      <th>Nome da Rua</th>\n",
              "      <th>Numero Rua</th>\n",
              "      <th>Complemento</th>\n",
              "      <th>Bairro</th>\n",
              "      <th>Cep</th>\n",
              "      <th>Produto</th>\n",
              "      <th>Data da Coleta</th>\n",
              "      <th>Valor de Venda</th>\n",
              "      <th>Valor de Compra</th>\n",
              "      <th>Unidade de Medida</th>\n",
              "      <th>Bandeira</th>\n",
              "    </tr>\n",
              "  </thead>\n",
              "  <tbody>\n",
              "    <tr>\n",
              "      <th>0</th>\n",
              "      <td>NE</td>\n",
              "      <td>AL</td>\n",
              "      <td>PALMEIRA DOS INDIOS</td>\n",
              "      <td>SEVERINO S. LOPES &amp; CIA. LTDA</td>\n",
              "      <td>05.331.412/0002-09</td>\n",
              "      <td>AVENIDA MUNIZ FALCÃO</td>\n",
              "      <td>1640</td>\n",
              "      <td>LOTES 08 E 09, LOT. GASTÃO LEÃO REGO</td>\n",
              "      <td>JOSÉ MAIA COSTA</td>\n",
              "      <td>57605-260</td>\n",
              "      <td>GASOLINA</td>\n",
              "      <td>01/11/2023</td>\n",
              "      <td>6,3</td>\n",
              "      <td>NaN</td>\n",
              "      <td>R$ / litro</td>\n",
              "      <td>VIBRA</td>\n",
              "    </tr>\n",
              "    <tr>\n",
              "      <th>1</th>\n",
              "      <td>NE</td>\n",
              "      <td>AL</td>\n",
              "      <td>PALMEIRA DOS INDIOS</td>\n",
              "      <td>SEVERINO S. LOPES &amp; CIA. LTDA</td>\n",
              "      <td>05.331.412/0002-09</td>\n",
              "      <td>AVENIDA MUNIZ FALCÃO</td>\n",
              "      <td>1640</td>\n",
              "      <td>LOTES 08 E 09, LOT. GASTÃO LEÃO REGO</td>\n",
              "      <td>JOSÉ MAIA COSTA</td>\n",
              "      <td>57605-260</td>\n",
              "      <td>GASOLINA ADITIVADA</td>\n",
              "      <td>01/11/2023</td>\n",
              "      <td>6,3</td>\n",
              "      <td>NaN</td>\n",
              "      <td>R$ / litro</td>\n",
              "      <td>VIBRA</td>\n",
              "    </tr>\n",
              "    <tr>\n",
              "      <th>2</th>\n",
              "      <td>NE</td>\n",
              "      <td>AL</td>\n",
              "      <td>PALMEIRA DOS INDIOS</td>\n",
              "      <td>SEVERINO S. LOPES &amp; CIA. LTDA</td>\n",
              "      <td>05.331.412/0002-09</td>\n",
              "      <td>AVENIDA MUNIZ FALCÃO</td>\n",
              "      <td>1640</td>\n",
              "      <td>LOTES 08 E 09, LOT. GASTÃO LEÃO REGO</td>\n",
              "      <td>JOSÉ MAIA COSTA</td>\n",
              "      <td>57605-260</td>\n",
              "      <td>ETANOL</td>\n",
              "      <td>01/11/2023</td>\n",
              "      <td>4,88</td>\n",
              "      <td>NaN</td>\n",
              "      <td>R$ / litro</td>\n",
              "      <td>VIBRA</td>\n",
              "    </tr>\n",
              "    <tr>\n",
              "      <th>3</th>\n",
              "      <td>NE</td>\n",
              "      <td>AL</td>\n",
              "      <td>PALMEIRA DOS INDIOS</td>\n",
              "      <td>A. B. LESSA NETO &amp; CIA LTDA</td>\n",
              "      <td>05.562.589/0001-35</td>\n",
              "      <td>AVENIDA VIEIRA DE BRITO</td>\n",
              "      <td>1888</td>\n",
              "      <td>NaN</td>\n",
              "      <td>VILA MARIA</td>\n",
              "      <td>57607-570</td>\n",
              "      <td>GASOLINA</td>\n",
              "      <td>01/11/2023</td>\n",
              "      <td>6,19</td>\n",
              "      <td>NaN</td>\n",
              "      <td>R$ / litro</td>\n",
              "      <td>VIBRA</td>\n",
              "    </tr>\n",
              "    <tr>\n",
              "      <th>4</th>\n",
              "      <td>NE</td>\n",
              "      <td>AL</td>\n",
              "      <td>PALMEIRA DOS INDIOS</td>\n",
              "      <td>A. B. LESSA NETO &amp; CIA LTDA</td>\n",
              "      <td>05.562.589/0001-35</td>\n",
              "      <td>AVENIDA VIEIRA DE BRITO</td>\n",
              "      <td>1888</td>\n",
              "      <td>NaN</td>\n",
              "      <td>VILA MARIA</td>\n",
              "      <td>57607-570</td>\n",
              "      <td>GASOLINA ADITIVADA</td>\n",
              "      <td>01/11/2023</td>\n",
              "      <td>6,29</td>\n",
              "      <td>NaN</td>\n",
              "      <td>R$ / litro</td>\n",
              "      <td>VIBRA</td>\n",
              "    </tr>\n",
              "    <tr>\n",
              "      <th>...</th>\n",
              "      <td>...</td>\n",
              "      <td>...</td>\n",
              "      <td>...</td>\n",
              "      <td>...</td>\n",
              "      <td>...</td>\n",
              "      <td>...</td>\n",
              "      <td>...</td>\n",
              "      <td>...</td>\n",
              "      <td>...</td>\n",
              "      <td>...</td>\n",
              "      <td>...</td>\n",
              "      <td>...</td>\n",
              "      <td>...</td>\n",
              "      <td>...</td>\n",
              "      <td>...</td>\n",
              "      <td>...</td>\n",
              "    </tr>\n",
              "    <tr>\n",
              "      <th>49448</th>\n",
              "      <td>S</td>\n",
              "      <td>PR</td>\n",
              "      <td>CAMPO LARGO</td>\n",
              "      <td>AUTO POSTO IMPERADOR DE CAMPO LARGO LTDA</td>\n",
              "      <td>42.182.809/0001-21</td>\n",
              "      <td>RUA XAVIER DA SILVA</td>\n",
              "      <td>1596</td>\n",
              "      <td>NaN</td>\n",
              "      <td>CENTRO</td>\n",
              "      <td>83601-010</td>\n",
              "      <td>GASOLINA</td>\n",
              "      <td>29/12/2023</td>\n",
              "      <td>5,79</td>\n",
              "      <td>NaN</td>\n",
              "      <td>R$ / litro</td>\n",
              "      <td>IPIRANGA</td>\n",
              "    </tr>\n",
              "    <tr>\n",
              "      <th>49449</th>\n",
              "      <td>S</td>\n",
              "      <td>PR</td>\n",
              "      <td>CAMPO LARGO</td>\n",
              "      <td>AUTO POSTO IMPERADOR DE CAMPO LARGO LTDA</td>\n",
              "      <td>42.182.809/0001-21</td>\n",
              "      <td>RUA XAVIER DA SILVA</td>\n",
              "      <td>1596</td>\n",
              "      <td>NaN</td>\n",
              "      <td>CENTRO</td>\n",
              "      <td>83601-010</td>\n",
              "      <td>ETANOL</td>\n",
              "      <td>29/12/2023</td>\n",
              "      <td>3,79</td>\n",
              "      <td>NaN</td>\n",
              "      <td>R$ / litro</td>\n",
              "      <td>IPIRANGA</td>\n",
              "    </tr>\n",
              "    <tr>\n",
              "      <th>49450</th>\n",
              "      <td>S</td>\n",
              "      <td>RS</td>\n",
              "      <td>OSORIO</td>\n",
              "      <td>POSTO ALDEIAO COMERCIO DE COMBUSTIVEIS LTDA</td>\n",
              "      <td>28.259.725/0002-07</td>\n",
              "      <td>AVENIDA JORGE DARIVA</td>\n",
              "      <td>1536</td>\n",
              "      <td>NaN</td>\n",
              "      <td>CENTRO</td>\n",
              "      <td>95520-000</td>\n",
              "      <td>GASOLINA</td>\n",
              "      <td>29/12/2023</td>\n",
              "      <td>5,49</td>\n",
              "      <td>NaN</td>\n",
              "      <td>R$ / litro</td>\n",
              "      <td>RODOIL</td>\n",
              "    </tr>\n",
              "    <tr>\n",
              "      <th>49451</th>\n",
              "      <td>S</td>\n",
              "      <td>RS</td>\n",
              "      <td>OSORIO</td>\n",
              "      <td>POSTO ALDEIAO COMERCIO DE COMBUSTIVEIS LTDA</td>\n",
              "      <td>28.259.725/0002-07</td>\n",
              "      <td>AVENIDA JORGE DARIVA</td>\n",
              "      <td>1536</td>\n",
              "      <td>NaN</td>\n",
              "      <td>CENTRO</td>\n",
              "      <td>95520-000</td>\n",
              "      <td>GASOLINA ADITIVADA</td>\n",
              "      <td>29/12/2023</td>\n",
              "      <td>5,59</td>\n",
              "      <td>NaN</td>\n",
              "      <td>R$ / litro</td>\n",
              "      <td>RODOIL</td>\n",
              "    </tr>\n",
              "    <tr>\n",
              "      <th>49452</th>\n",
              "      <td>S</td>\n",
              "      <td>RS</td>\n",
              "      <td>OSORIO</td>\n",
              "      <td>POSTO ALDEIAO COMERCIO DE COMBUSTIVEIS LTDA</td>\n",
              "      <td>28.259.725/0002-07</td>\n",
              "      <td>AVENIDA JORGE DARIVA</td>\n",
              "      <td>1536</td>\n",
              "      <td>NaN</td>\n",
              "      <td>CENTRO</td>\n",
              "      <td>95520-000</td>\n",
              "      <td>ETANOL</td>\n",
              "      <td>29/12/2023</td>\n",
              "      <td>3,99</td>\n",
              "      <td>NaN</td>\n",
              "      <td>R$ / litro</td>\n",
              "      <td>RODOIL</td>\n",
              "    </tr>\n",
              "  </tbody>\n",
              "</table>\n",
              "<p>101996 rows × 16 columns</p>\n",
              "</div>\n",
              "    <div class=\"colab-df-buttons\">\n",
              "\n",
              "  <div class=\"colab-df-container\">\n",
              "    <button class=\"colab-df-convert\" onclick=\"convertToInteractive('df-07d59fb5-afd1-446d-8a43-f2f405ba223d')\"\n",
              "            title=\"Convert this dataframe to an interactive table.\"\n",
              "            style=\"display:none;\">\n",
              "\n",
              "  <svg xmlns=\"http://www.w3.org/2000/svg\" height=\"24px\" viewBox=\"0 -960 960 960\">\n",
              "    <path d=\"M120-120v-720h720v720H120Zm60-500h600v-160H180v160Zm220 220h160v-160H400v160Zm0 220h160v-160H400v160ZM180-400h160v-160H180v160Zm440 0h160v-160H620v160ZM180-180h160v-160H180v160Zm440 0h160v-160H620v160Z\"/>\n",
              "  </svg>\n",
              "    </button>\n",
              "\n",
              "  <style>\n",
              "    .colab-df-container {\n",
              "      display:flex;\n",
              "      gap: 12px;\n",
              "    }\n",
              "\n",
              "    .colab-df-convert {\n",
              "      background-color: #E8F0FE;\n",
              "      border: none;\n",
              "      border-radius: 50%;\n",
              "      cursor: pointer;\n",
              "      display: none;\n",
              "      fill: #1967D2;\n",
              "      height: 32px;\n",
              "      padding: 0 0 0 0;\n",
              "      width: 32px;\n",
              "    }\n",
              "\n",
              "    .colab-df-convert:hover {\n",
              "      background-color: #E2EBFA;\n",
              "      box-shadow: 0px 1px 2px rgba(60, 64, 67, 0.3), 0px 1px 3px 1px rgba(60, 64, 67, 0.15);\n",
              "      fill: #174EA6;\n",
              "    }\n",
              "\n",
              "    .colab-df-buttons div {\n",
              "      margin-bottom: 4px;\n",
              "    }\n",
              "\n",
              "    [theme=dark] .colab-df-convert {\n",
              "      background-color: #3B4455;\n",
              "      fill: #D2E3FC;\n",
              "    }\n",
              "\n",
              "    [theme=dark] .colab-df-convert:hover {\n",
              "      background-color: #434B5C;\n",
              "      box-shadow: 0px 1px 3px 1px rgba(0, 0, 0, 0.15);\n",
              "      filter: drop-shadow(0px 1px 2px rgba(0, 0, 0, 0.3));\n",
              "      fill: #FFFFFF;\n",
              "    }\n",
              "  </style>\n",
              "\n",
              "    <script>\n",
              "      const buttonEl =\n",
              "        document.querySelector('#df-07d59fb5-afd1-446d-8a43-f2f405ba223d button.colab-df-convert');\n",
              "      buttonEl.style.display =\n",
              "        google.colab.kernel.accessAllowed ? 'block' : 'none';\n",
              "\n",
              "      async function convertToInteractive(key) {\n",
              "        const element = document.querySelector('#df-07d59fb5-afd1-446d-8a43-f2f405ba223d');\n",
              "        const dataTable =\n",
              "          await google.colab.kernel.invokeFunction('convertToInteractive',\n",
              "                                                    [key], {});\n",
              "        if (!dataTable) return;\n",
              "\n",
              "        const docLinkHtml = 'Like what you see? Visit the ' +\n",
              "          '<a target=\"_blank\" href=https://colab.research.google.com/notebooks/data_table.ipynb>data table notebook</a>'\n",
              "          + ' to learn more about interactive tables.';\n",
              "        element.innerHTML = '';\n",
              "        dataTable['output_type'] = 'display_data';\n",
              "        await google.colab.output.renderOutput(dataTable, element);\n",
              "        const docLink = document.createElement('div');\n",
              "        docLink.innerHTML = docLinkHtml;\n",
              "        element.appendChild(docLink);\n",
              "      }\n",
              "    </script>\n",
              "  </div>\n",
              "\n",
              "\n",
              "<div id=\"df-522ea016-b963-446e-a472-4ff0a93da4d4\">\n",
              "  <button class=\"colab-df-quickchart\" onclick=\"quickchart('df-522ea016-b963-446e-a472-4ff0a93da4d4')\"\n",
              "            title=\"Suggest charts\"\n",
              "            style=\"display:none;\">\n",
              "\n",
              "<svg xmlns=\"http://www.w3.org/2000/svg\" height=\"24px\"viewBox=\"0 0 24 24\"\n",
              "     width=\"24px\">\n",
              "    <g>\n",
              "        <path d=\"M19 3H5c-1.1 0-2 .9-2 2v14c0 1.1.9 2 2 2h14c1.1 0 2-.9 2-2V5c0-1.1-.9-2-2-2zM9 17H7v-7h2v7zm4 0h-2V7h2v10zm4 0h-2v-4h2v4z\"/>\n",
              "    </g>\n",
              "</svg>\n",
              "  </button>\n",
              "\n",
              "<style>\n",
              "  .colab-df-quickchart {\n",
              "      --bg-color: #E8F0FE;\n",
              "      --fill-color: #1967D2;\n",
              "      --hover-bg-color: #E2EBFA;\n",
              "      --hover-fill-color: #174EA6;\n",
              "      --disabled-fill-color: #AAA;\n",
              "      --disabled-bg-color: #DDD;\n",
              "  }\n",
              "\n",
              "  [theme=dark] .colab-df-quickchart {\n",
              "      --bg-color: #3B4455;\n",
              "      --fill-color: #D2E3FC;\n",
              "      --hover-bg-color: #434B5C;\n",
              "      --hover-fill-color: #FFFFFF;\n",
              "      --disabled-bg-color: #3B4455;\n",
              "      --disabled-fill-color: #666;\n",
              "  }\n",
              "\n",
              "  .colab-df-quickchart {\n",
              "    background-color: var(--bg-color);\n",
              "    border: none;\n",
              "    border-radius: 50%;\n",
              "    cursor: pointer;\n",
              "    display: none;\n",
              "    fill: var(--fill-color);\n",
              "    height: 32px;\n",
              "    padding: 0;\n",
              "    width: 32px;\n",
              "  }\n",
              "\n",
              "  .colab-df-quickchart:hover {\n",
              "    background-color: var(--hover-bg-color);\n",
              "    box-shadow: 0 1px 2px rgba(60, 64, 67, 0.3), 0 1px 3px 1px rgba(60, 64, 67, 0.15);\n",
              "    fill: var(--button-hover-fill-color);\n",
              "  }\n",
              "\n",
              "  .colab-df-quickchart-complete:disabled,\n",
              "  .colab-df-quickchart-complete:disabled:hover {\n",
              "    background-color: var(--disabled-bg-color);\n",
              "    fill: var(--disabled-fill-color);\n",
              "    box-shadow: none;\n",
              "  }\n",
              "\n",
              "  .colab-df-spinner {\n",
              "    border: 2px solid var(--fill-color);\n",
              "    border-color: transparent;\n",
              "    border-bottom-color: var(--fill-color);\n",
              "    animation:\n",
              "      spin 1s steps(1) infinite;\n",
              "  }\n",
              "\n",
              "  @keyframes spin {\n",
              "    0% {\n",
              "      border-color: transparent;\n",
              "      border-bottom-color: var(--fill-color);\n",
              "      border-left-color: var(--fill-color);\n",
              "    }\n",
              "    20% {\n",
              "      border-color: transparent;\n",
              "      border-left-color: var(--fill-color);\n",
              "      border-top-color: var(--fill-color);\n",
              "    }\n",
              "    30% {\n",
              "      border-color: transparent;\n",
              "      border-left-color: var(--fill-color);\n",
              "      border-top-color: var(--fill-color);\n",
              "      border-right-color: var(--fill-color);\n",
              "    }\n",
              "    40% {\n",
              "      border-color: transparent;\n",
              "      border-right-color: var(--fill-color);\n",
              "      border-top-color: var(--fill-color);\n",
              "    }\n",
              "    60% {\n",
              "      border-color: transparent;\n",
              "      border-right-color: var(--fill-color);\n",
              "    }\n",
              "    80% {\n",
              "      border-color: transparent;\n",
              "      border-right-color: var(--fill-color);\n",
              "      border-bottom-color: var(--fill-color);\n",
              "    }\n",
              "    90% {\n",
              "      border-color: transparent;\n",
              "      border-bottom-color: var(--fill-color);\n",
              "    }\n",
              "  }\n",
              "</style>\n",
              "\n",
              "  <script>\n",
              "    async function quickchart(key) {\n",
              "      const quickchartButtonEl =\n",
              "        document.querySelector('#' + key + ' button');\n",
              "      quickchartButtonEl.disabled = true;  // To prevent multiple clicks.\n",
              "      quickchartButtonEl.classList.add('colab-df-spinner');\n",
              "      try {\n",
              "        const charts = await google.colab.kernel.invokeFunction(\n",
              "            'suggestCharts', [key], {});\n",
              "      } catch (error) {\n",
              "        console.error('Error during call to suggestCharts:', error);\n",
              "      }\n",
              "      quickchartButtonEl.classList.remove('colab-df-spinner');\n",
              "      quickchartButtonEl.classList.add('colab-df-quickchart-complete');\n",
              "    }\n",
              "    (() => {\n",
              "      let quickchartButtonEl =\n",
              "        document.querySelector('#df-522ea016-b963-446e-a472-4ff0a93da4d4 button');\n",
              "      quickchartButtonEl.style.display =\n",
              "        google.colab.kernel.accessAllowed ? 'block' : 'none';\n",
              "    })();\n",
              "  </script>\n",
              "</div>\n",
              "\n",
              "  <div id=\"id_bc045873-789c-4973-b2ba-0396c091484c\">\n",
              "    <style>\n",
              "      .colab-df-generate {\n",
              "        background-color: #E8F0FE;\n",
              "        border: none;\n",
              "        border-radius: 50%;\n",
              "        cursor: pointer;\n",
              "        display: none;\n",
              "        fill: #1967D2;\n",
              "        height: 32px;\n",
              "        padding: 0 0 0 0;\n",
              "        width: 32px;\n",
              "      }\n",
              "\n",
              "      .colab-df-generate:hover {\n",
              "        background-color: #E2EBFA;\n",
              "        box-shadow: 0px 1px 2px rgba(60, 64, 67, 0.3), 0px 1px 3px 1px rgba(60, 64, 67, 0.15);\n",
              "        fill: #174EA6;\n",
              "      }\n",
              "\n",
              "      [theme=dark] .colab-df-generate {\n",
              "        background-color: #3B4455;\n",
              "        fill: #D2E3FC;\n",
              "      }\n",
              "\n",
              "      [theme=dark] .colab-df-generate:hover {\n",
              "        background-color: #434B5C;\n",
              "        box-shadow: 0px 1px 3px 1px rgba(0, 0, 0, 0.15);\n",
              "        filter: drop-shadow(0px 1px 2px rgba(0, 0, 0, 0.3));\n",
              "        fill: #FFFFFF;\n",
              "      }\n",
              "    </style>\n",
              "    <button class=\"colab-df-generate\" onclick=\"generateWithVariable('df')\"\n",
              "            title=\"Generate code using this dataframe.\"\n",
              "            style=\"display:none;\">\n",
              "\n",
              "  <svg xmlns=\"http://www.w3.org/2000/svg\" height=\"24px\"viewBox=\"0 0 24 24\"\n",
              "       width=\"24px\">\n",
              "    <path d=\"M7,19H8.4L18.45,9,17,7.55,7,17.6ZM5,21V16.75L18.45,3.32a2,2,0,0,1,2.83,0l1.4,1.43a1.91,1.91,0,0,1,.58,1.4,1.91,1.91,0,0,1-.58,1.4L9.25,21ZM18.45,9,17,7.55Zm-12,3A5.31,5.31,0,0,0,4.9,8.1,5.31,5.31,0,0,0,1,6.5,5.31,5.31,0,0,0,4.9,4.9,5.31,5.31,0,0,0,6.5,1,5.31,5.31,0,0,0,8.1,4.9,5.31,5.31,0,0,0,12,6.5,5.46,5.46,0,0,0,6.5,12Z\"/>\n",
              "  </svg>\n",
              "    </button>\n",
              "    <script>\n",
              "      (() => {\n",
              "      const buttonEl =\n",
              "        document.querySelector('#id_bc045873-789c-4973-b2ba-0396c091484c button.colab-df-generate');\n",
              "      buttonEl.style.display =\n",
              "        google.colab.kernel.accessAllowed ? 'block' : 'none';\n",
              "\n",
              "      buttonEl.onclick = () => {\n",
              "        google.colab.notebook.generateWithVariable('df');\n",
              "      }\n",
              "      })();\n",
              "    </script>\n",
              "  </div>\n",
              "\n",
              "    </div>\n",
              "  </div>\n"
            ]
          },
          "metadata": {}
        }
      ],
      "source": [
        "# Arquivos dos dois últimos meses de 2023\n",
        "nov = pd.read_csv('precos-gasolina-etanol-11.csv', sep=';')\n",
        "dez = pd.read_csv('precos-gasolina-etanol-12.csv', sep=';')\n",
        "\n",
        "# Junta os dois DataFrames\n",
        "df = pd.concat([nov, dez])\n",
        "\n",
        "# Visualize as primeiras linhas do DataFrame\n",
        "display(df)"
      ]
    },
    {
      "cell_type": "markdown",
      "source": [
        "# Tratamentos"
      ],
      "metadata": {
        "id": "E8SlOu4uj4w-"
      }
    },
    {
      "cell_type": "markdown",
      "source": [
        "- <font color = \"darkblue\"> Removendo nulos da coluna valor de compra"
      ],
      "metadata": {
        "id": "M2nsmgmBqQl9"
      }
    },
    {
      "cell_type": "code",
      "source": [
        "df.drop(columns=['Valor de Compra'], inplace=True)"
      ],
      "metadata": {
        "id": "IV6pv5fnj-Qv"
      },
      "execution_count": null,
      "outputs": []
    },
    {
      "cell_type": "markdown",
      "source": [
        "- <font color = \"darkblue\"> Transformando a data de object para datetime"
      ],
      "metadata": {
        "id": "Bwmu6CN8knTc"
      }
    },
    {
      "cell_type": "code",
      "source": [
        "df['Data da Coleta'] = pd.to_datetime(df['Data da Coleta'], format='%d/%m/%Y')"
      ],
      "metadata": {
        "id": "HUOgc7QPsTUR"
      },
      "execution_count": null,
      "outputs": []
    },
    {
      "cell_type": "markdown",
      "source": [
        "- <font color = \"darkblue\"> mudar valor de venda object type para float"
      ],
      "metadata": {
        "id": "0f658PXhu6OI"
      }
    },
    {
      "cell_type": "code",
      "source": [
        "df['Valor de Venda'] = df['Valor de Venda'].apply(lambda x: float(x.replace(',', '.')))"
      ],
      "metadata": {
        "id": "GLF09S0NvAow"
      },
      "execution_count": null,
      "outputs": []
    },
    {
      "cell_type": "markdown",
      "source": [
        "- <font color = \"darkblue\"> Verificando valores nulos em todo o DataFrame\n",
        "<!-- -!Visualizar boxplots é uma maneira eficaz de identificar outliers -->"
      ],
      "metadata": {
        "id": "q_tW4Yg9C-oI"
      }
    },
    {
      "cell_type": "code",
      "source": [
        "# Verificar valores nulos em todo o DataFrame\n",
        "valores_nulos_totais = df.isnull()\n",
        "\n",
        "# Exibir o DataFrame de booleanos (True para valores nulos, False para valores não nulos)\n",
        "print(valores_nulos_totais)"
      ],
      "metadata": {
        "id": "1cUwWoSyD1q_"
      },
      "execution_count": null,
      "outputs": []
    },
    {
      "cell_type": "markdown",
      "source": [
        "- <font color = \"darkblue\">Verificando se há duplicatas"
      ],
      "metadata": {
        "id": "e_8Gt-nDCRJJ"
      }
    },
    {
      "cell_type": "code",
      "source": [
        "#Se todas as entradas são False, isso significa que não há duplicatas no DataFrame.\n",
        "duplicatas = df.duplicated()\n",
        "print(duplicatas)"
      ],
      "metadata": {
        "id": "iZJ9a7KWCWxJ"
      },
      "execution_count": null,
      "outputs": []
    },
    {
      "cell_type": "markdown",
      "source": [
        "<font color=\"red\" size=\"7rem\"> Perguntas a serem respondidas </font>\n",
        "\n",
        "*<font color=\"red\" size=\"5rem\"> Isabela:</font>\n",
        "1. Como se comportaram o preço dos combustíveis durante os dois meses citados? Os valores do\n",
        "etanol e da gasolina tiveram uma tendência de queda ou diminuição?\n",
        "2. Qual o preço médio da gasolina e do etanol nesses dois meses?\n",
        "3. Quais os 5 estados com o preço médio da gasolina e do etanol mais caros?\n",
        "------\n",
        "* <font color=\"red\" size=\"5rem\">Ilma:</font>\n",
        "4. Qual o preço médio da gasolina e do etanol por estado?\n",
        "5. Qual o município que possui o menor preço para a gasolina e para o etanol?\n",
        "6. Qual o município que possui o maior preço para a gasolina e para o etanol?\n",
        "-----\n",
        "* <font color=\"red\" size=\"5rem\">Gabriel:</font>\n",
        "7. Qual a região que possui o maior valor médio da gasolina?\n",
        "8. Qual a região que possui o menor valor médio do etanol?\n",
        "9. Há alguma correlação entre o valor do combustível (gasolina e etanol) e a região onde ele é vendido?\n",
        "-----\n",
        "* <font color=\"red\" size=\"5rem\">Albino:</font>\n",
        "10. Há alguma correlação entre o valor do combustível (gasolina e etanol) e a bandeira que vende ele?\n",
        "11. Qual a média entre a Gasolina comum e a gasolina aditivada nesse período?\n",
        "-----\n",
        "* <font color=\"red\" size=\"5rem\">Debora:</font>\n",
        "12. Qual é a variação percentual dos preços da gasolina e do etanol em cada estado durante os dois meses citados?\n",
        "13. Qual é a relação entre o preço médio da gasolina e do etanol e o IDH (Índice de Desenvolvimento Humano) de cada estado?"
      ],
      "metadata": {
        "id": "nJuZgJn1FQDc"
      }
    },
    {
      "cell_type": "markdown",
      "source": [
        "-----------------------------------------------------------"
      ],
      "metadata": {
        "id": "LjgDWWjzoVky"
      }
    },
    {
      "cell_type": "markdown",
      "source": [
        "-----------------------------------------------------------\n",
        "  <center><font color=\"lightgreen\" size=\"6rem\" text-align=\"center\"><font color=\"red\">1, 2 e 3</font> Gráficos Concluídos! Análise em progresso </font></center>\n",
        "\n",
        "----------------------------------------------------------\n"
      ],
      "metadata": {
        "id": "t_49vMrInV2K"
      }
    },
    {
      "cell_type": "markdown",
      "source": [
        "# <font color = \"lightgreen\"> 1- Como se comportaram o preço dos combustíveis durante os dois meses citados? Os valores do etanol e da gasolina tiveram uma tendência de queda ou diminuição?"
      ],
      "metadata": {
        "id": "btluTwk-C2O7"
      }
    },
    {
      "cell_type": "code",
      "source": [
        "# Defini a primeira semana de novembro como semana 1\n",
        "df['Semana'] = (df['Data da Coleta'].dt.isocalendar().week - 44) % 52 + 1\n",
        "\n",
        "# Cálculo da média semanal para cada produto\n",
        "media_semanal = df.groupby(['Produto', 'Semana'])['Valor de Venda'].mean().reset_index()\n",
        "\n",
        "# Junta os dados dos três produtos em um único dataframe\n",
        "dados_semanais = pd.concat([media_semanal[media_semanal['Produto'] == produto] for produto in ['GASOLINA ADITIVADA', 'GASOLINA', 'ETANOL']])\n",
        "dados_semanais.sort_index(ascending=True, inplace=True)"
      ],
      "metadata": {
        "id": "Wc7d3JHinu8L"
      },
      "execution_count": null,
      "outputs": []
    },
    {
      "cell_type": "code",
      "source": [
        "# Dividi os dados como antes e depois da quinta semana\n",
        "df_preco_alto = dados_semanais[dados_semanais['Semana'] <= 5]\n",
        "df_preco_baixo = dados_semanais[dados_semanais['Semana'] >= 5]\n",
        "\n",
        "\n",
        "# Paletas personalizadas\n",
        "nov_palette = ['#00FF87','#0078FF','#045959']\n",
        "dez_palette = ['#FF0078','#FF8700','#C00500']\n",
        "\n",
        "# Remove duplicatas geradas na mudança de cor\n",
        "produtos = df_preco_alto['Produto'].unique()\n",
        "\n",
        "plt.figure(figsize=(10, 6))\n",
        "\n",
        "for i, produto in enumerate(produtos):\n",
        "    sns.lineplot(x='Semana', y='Valor de Venda', data=df_preco_alto[df_preco_alto['Produto'] == produto], color=nov_palette[i], label=produto, linewidth=2.5, marker='o')\n",
        "    sns.lineplot(x='Semana', y='Valor de Venda', data=df_preco_baixo[df_preco_baixo['Produto'] == produto], color=dez_palette[i], label=None, linewidth=2.5, marker='o')\n",
        "\n",
        "# Altera os rótulos do eixo x pra meses\n",
        "plt.xticks(ticks=[3, 7], labels=['Novembro', 'Dezembro'])\n",
        "plt.xlabel('Data da Coleta')\n",
        "plt.ylabel('Valor de Venda (R$ / litro)')\n",
        "\n",
        "# Defini o range min e max\n",
        "plt.ylim(3.5, 6.2)\n",
        "plt.show()\n"
      ],
      "metadata": {
        "id": "7B-foyKD0UP2",
        "outputId": "62244a7f-1f92-4ef1-b3b4-802976fe507a",
        "colab": {
          "base_uri": "https://localhost:8080/",
          "height": 542
        }
      },
      "execution_count": null,
      "outputs": [
        {
          "output_type": "display_data",
          "data": {
            "text/plain": [
              "<Figure size 1000x600 with 1 Axes>"
            ],
            "image/png": "[encoded data removed]"
          },
          "metadata": {}
        }
      ]
    },
    {
      "cell_type": "markdown",
      "source": [
        "# <font color = \"lightgreen\"> 2- Qual o preço médio da gasolina e do etanol nesses dois meses?"
      ],
      "metadata": {
        "id": "lKf5AKkwLVmT"
      }
    },
    {
      "cell_type": "code",
      "source": [
        "gas_nov = df[(df['Produto'] == 'GASOLINA') & (df['Data da Coleta'] >= '2023/11/01') & (df['Data da Coleta'] <= '2023/11/30') ]\n",
        "gas_dez = df[(df['Produto'] == 'GASOLINA') & (df['Data da Coleta'] >= '2023/12/01') & (df['Data da Coleta'] <= '2023/12/30') ]\n",
        "\n",
        "eta_nov = df[(df['Produto'] == 'ETANOL') & (df['Data da Coleta'] >= '2023/11/01') & (df['Data da Coleta'] <= '2023/11/30') ]\n",
        "eta_dez = df[(df['Produto'] == 'ETANOL') & (df['Data da Coleta'] >= '2023/12/01') & (df['Data da Coleta'] <= '2023/12/30') ]\n",
        "\n",
        "# Calculando a média\n",
        "media_gas_nov = gas_nov['Valor de Venda'].mean()\n",
        "media_gas_dez = gas_dez['Valor de Venda'].mean()\n",
        "\n",
        "media_eta_nov = eta_nov['Valor de Venda'].mean()\n",
        "media_eta_dez = eta_dez['Valor de Venda'].mean()"
      ],
      "metadata": {
        "id": "84yzSK5unRn3"
      },
      "execution_count": null,
      "outputs": []
    },
    {
      "cell_type": "code",
      "source": [
        "# Defini os valores a serem usados no eixo x\n",
        "produtos = ['ETANOL', 'GASOLINA']\n",
        "\n",
        "# Defini a largura das barras\n",
        "bar_largura = 0.30\n",
        "\n",
        "# Defini a posição das barras de acordo com a largura predefinida\n",
        "bar_m11 = np.arange(len(produtos))\n",
        "bar_m12 = [x + bar_largura for x in bar_m11]\n",
        "\n",
        "plt.figure(figsize=(8, 5))\n",
        "\n",
        "# Cria o grafico de barras\n",
        "plt.bar(bar_m11, [media_eta_nov, media_gas_nov], color=cm.viridis(0.3), width=0.30, label='Novembro')\n",
        "plt.bar(bar_m12, [media_eta_dez, media_gas_dez], color=cm.viridis(0.6), width=0.30, label='Dezembro')\n",
        "\n",
        "# Adiciona os valores nas barras\n",
        "for i in range(len(bar_m11)):\n",
        "    plt.text(x = bar_m11[i]-0.05 , y = [media_eta_nov, media_gas_nov][i]+0.1, s = format([media_eta_nov, media_gas_nov][i], '.2f'), size = 10)\n",
        "    plt.text(x = bar_m12[i]-0.05 , y = [media_eta_dez, media_gas_dez][i]+0.1, s = format([media_eta_dez, media_gas_dez][i], '.2f'), size = 10, color='red')\n",
        "\n",
        "# Adiciona os rótulos ao eixo x\n",
        "plt.xlabel('Produto', fontsize=12)\n",
        "plt.xticks([r + bar_largura/2 for r in range(len(produtos))], produtos)\n",
        "\n",
        "# Adiciona o rótulo ao eixo y\n",
        "plt.ylabel('Valor de Venda (R$ / litro)')\n",
        "plt.ylim(0, 7)\n",
        "\n",
        "# Adiciona margem no gráfico\n",
        "plt.margins(x=0.3, y=0.3)\n",
        "\n",
        "# Cria a legenda\n",
        "plt.legend(loc='upper left')\n",
        "\n",
        "# Mostra o gráfico\n",
        "plt.show()\n"
      ],
      "metadata": {
        "id": "PIzPADo_e4nC",
        "outputId": "58cbeb32-185d-427f-9c68-dc4c1c189faa",
        "colab": {
          "base_uri": "https://localhost:8080/",
          "height": 474
        }
      },
      "execution_count": null,
      "outputs": [
        {
          "output_type": "display_data",
          "data": {
            "text/plain": [
              "<Figure size 800x500 with 1 Axes>"
            ],
            "image/png": "[encoded data removed]"
          },
          "metadata": {}
        }
      ]
    },
    {
      "cell_type": "markdown",
      "source": [
        "# <font color = \"lightgreen\"> 3- Quais os 5 estados com o preço médio da gasolina e do etanol mais caros?\n"
      ],
      "metadata": {
        "id": "Qghz8DjTLf_7"
      }
    },
    {
      "cell_type": "markdown",
      "source": [
        "O Mapa de calor feito com geopandas, um mapa de calor, com base no mapa do Brasil.\n",
        "\n",
        "<font color=\"red\" size=\"6rem\">Para funcionar são necessários alguns arquivos da pasta estados_2010 que foram pedidos no tópico de **Verificação**</font>"
      ],
      "metadata": {
        "id": "yERsW-tfmHEz"
      }
    },
    {
      "cell_type": "code",
      "source": [
        "# Carrega o shapefile/ modelo do brasil e seus estados\n",
        "brasil = gpd.read_file('estados_2010.shp')\n",
        "\n",
        "df_media = df.copy()\n",
        "\n",
        "# Renomeia as coluna de Estado para que não haja conflito entre dataframe\n",
        "df_media = df_media.rename(columns={'Estado - Sigla': 'eSigla'})\n",
        "brasil = brasil.rename(columns={'sigla': 'eSigla'})\n",
        "\n",
        "# Agrupa por Sigla de Estado e Produto\n",
        "df_media = df_media.groupby(['eSigla', 'Produto'])['Valor de Venda'].mean()\n",
        "\n",
        "# Transforma a Series em dataframe\n",
        "df_media = df_media.to_frame()\n",
        "\n",
        "# Reseta o index\n",
        "df_media.reset_index(inplace=True)\n",
        "\n",
        "# Defini os indexes como eSigla\n",
        "df_media = df_media.set_index('eSigla')\n",
        "brasil = brasil.set_index('eSigla')"
      ],
      "metadata": {
        "id": "i7977M1NSlK-"
      },
      "execution_count": null,
      "outputs": []
    },
    {
      "cell_type": "code",
      "source": [
        "# Filtra o dataFrame para incluir apenas 'Gasolina'\n",
        "df_media_gasolina = df_media[df_media['Produto'] == 'GASOLINA']\n",
        "\n",
        "# Filtra o dataFrame para incluir apenas 'Etanol'\n",
        "df_media_etanol = df_media[df_media['Produto'] == 'ETANOL']\n",
        "\n",
        "# Uni os dois DataFrames separadamente com o seu próprio mapa do Brasil\n",
        "brasil_gasolina = brasil.join(df_media_gasolina)\n",
        "brasil_etanol = brasil.join(df_media_etanol)"
      ],
      "metadata": {
        "id": "GHNymZgPSzC3"
      },
      "execution_count": null,
      "outputs": []
    },
    {
      "cell_type": "code",
      "source": [
        "# Dicionário com os ajustes individuais na posição dos Estados que estavam dispersos\n",
        "# Cordenada padrão (-5, 2). Cordenada abaixo é usada pra o cálculo, ex: PA -> (-5-1 = -6, 2-1 = 1)\n",
        "ajustes = {\n",
        "    'PA': (-1, -1),\n",
        "    'AM': (-3, -1),\n",
        "    'AP': (0, -0.4),\n",
        "    'RR': (-0.2, -0.2),\n",
        "    'SP': (0, 0.5),\n",
        "    'MA': (0, 1),\n",
        "    'TO': (0, -1),\n",
        "    'PI': (-0.5, -1),\n",
        "    'PB': (1, 0),\n",
        "    'AL': (1, 0),\n",
        "    'BA': (1, 1),\n",
        "    'MT': (-0.5, -0.5),\n",
        "    'DF': (-0.2, 0.7),\n",
        "    'AC': (1.4,-0.9)\n",
        "}"
      ],
      "metadata": {
        "id": "M2ROq8GZW21T"
      },
      "execution_count": null,
      "outputs": []
    },
    {
      "cell_type": "code",
      "source": [
        "# Adiciona as siglas dos estados\n",
        "def adicionar_sigla(pontos_centrais, index, top_5, ax):\n",
        "# Pega o ponto e a sigla\n",
        "  for ponto, sigla in zip(pontos_centrais, index):\n",
        "      # Só escrevem as siglas se forem parte do top 5\n",
        "      if sigla in top_5:\n",
        "          # Inicia os ajustes das coordenadas, fazendo os cálculos necessários\n",
        "          ajuste = ajustes.get(sigla, (0, 0))\n",
        "          ax.annotate(sigla, xy=(ponto.x + ajuste[0], ponto.y + ajuste[1]), xytext=(-5, -2), textcoords=\"offset points\")"
      ],
      "metadata": {
        "id": "JkKd5FNAfXIn"
      },
      "execution_count": null,
      "outputs": []
    },
    {
      "cell_type": "code",
      "source": [
        "# Ajusta o tamanho dos mapas do Brasil\n",
        "fig = plt.figure(figsize=(25, 8))\n",
        "\n",
        "# Cria os eixos para os dois mapas\n",
        "ax1 = fig.add_axes([0.13, 0.1, 0.4, 0.8])  # 1º- mapa para gasolina\n",
        "ax2 = fig.add_axes([0.45, 0.1, 0.4, 0.8])  # 2º- mapa para etanol\n",
        "\n",
        "# Cria um terceiro eixo para a barra de cores\n",
        "cax = fig.add_axes([0.47, 0.1, 0.02, 0.8])\n",
        "\n",
        "# Armazena os pontos centrais aproximados dos Estados\n",
        "pontos_centrais = brasil.geometry.representative_point()\n",
        "\n",
        "# Plota o mapa da gasolina -1º\n",
        "brasil_gasolina.plot(column='Valor de Venda', cmap='YlOrRd', linewidth=0.8, edgecolor='white', ax=ax1, legend=False)\n",
        "\n",
        "# Plota o mapa para etanol - 2º\n",
        "brasil_etanol.plot(column='Valor de Venda', cmap='YlOrRd', linewidth=0.8, edgecolor='white', ax=ax2, legend=False)\n",
        "\n",
        "# Seleciona os 5 estados com os maiores valores e chama a função de adicionar sigla\n",
        "top_5_estados_gas = df_media_gasolina.sort_values('Valor de Venda', ascending=False).head(5).index.tolist()\n",
        "adicionar_sigla(pontos_centrais, brasil.index, top_5_estados_gas, ax1)\n",
        "\n",
        "# Ordena os valores de etanol, seleciona os top 5 estados e chama a função\n",
        "top_5_estados_eta = df_media_etanol.sort_values('Valor de Venda', ascending=False).head(5).index.tolist()\n",
        "adicionar_sigla(pontos_centrais, brasil.index, top_5_estados_eta, ax2)\n",
        "\n",
        "# Oculta os valores em x e y dos mapas 1 e 2\n",
        "ax1.axis('off')\n",
        "ax2.axis('off')\n",
        "\n",
        "ax1.set_title('Preço médio da gasolina no Brasil')\n",
        "ax2.set_title('Preço médio do etanol no Brasil')\n",
        "\n",
        "# Criação da barra medidora de calor\n",
        "\n",
        "# Fixa o mínimo e máximo\n",
        "norm = mcolors.Normalize(vmin=df_media['Valor de Venda'].min(), vmax=df_media['Valor de Venda'].max())\n",
        "\n",
        "# Escolhe a paleta entre tons amarelados e avermelhados\n",
        "cmap = plt.get_cmap('YlOrRd')\n",
        "\n",
        "# Instância necessária para a criação da barra no centro\n",
        "sm = cm.ScalarMappable(cmap=cmap, norm=norm)\n",
        "sm.set_array([])\n",
        "\n",
        "fig.colorbar(sm, cax=cax, orientation='vertical')\n",
        "\n",
        "# Título da barra\n",
        "cax.set_title('R$ / Litro')\n",
        "\n",
        "plt.show()"
      ],
      "metadata": {
        "id": "2YoH_o5lX8PC",
        "outputId": "5653410b-b3f3-46a5-ebe9-5212947e3438",
        "colab": {
          "base_uri": "https://localhost:8080/",
          "height": 699
        }
      },
      "execution_count": null,
      "outputs": [
        {
          "output_type": "display_data",
          "data": {
            "text/plain": [
              "<Figure size 2500x800 with 3 Axes>"
            ],
            "image/png": "[encoded data removed]"
          },
          "metadata": {}
        }
      ]
    },
    {
      "cell_type": "markdown",
      "source": [
        "# <font color = \"green\"> Pergunta 12: Qual é a variação percentual dos preços da gasolina e do etanol em cada estado durante os dois meses citados?"
      ],
      "metadata": {
        "id": "2vPVjiSUaQNn"
      }
    },
    {
      "cell_type": "code",
      "source": [
        "import pandas as pd\n",
        "import matplotlib.pyplot as plt\n",
        "\n",
        "# Arquivos dos dois últimos meses de 2023\n",
        "nov = pd.read_csv('/content/precos-gasolina-etanol-11 (2).csv', sep=';')\n",
        "dez = pd.read_csv('/content/precos-gasolina-etanol-12 (1).csv', sep=';')\n",
        "\n",
        "# Concatenando os dataframes\n",
        "df = pd.concat([nov, dez])\n",
        "\n",
        "# Verificando se 'Valor de Venda' é do tipo string\n",
        "if df['Valor de Venda'].dtypes == object:\n",
        "    # Substituindo vírgulas por pontos e convertendo para float\n",
        "    df['Valor de Venda'] = df['Valor de Venda'].str.replace(',', '.').astype(float)\n",
        "\n",
        "# Definindo as variáveis de preço de acordo com o valor de venda\n",
        "df['preco_gasolina'] = df['Valor de Venda']\n",
        "df['preco_etanol'] = df['Valor de Venda']\n",
        "\n",
        "# Tratando valores None ou NaN e calculando a variação percentual dos preços\n",
        "df['preco_gasolina'] = df['preco_gasolina'].fillna(method='ffill')\n",
        "df['preco_etanol'] = df['preco_etanol'].fillna(method='ffill')\n",
        "df['variacao_gasolina'] = df['preco_gasolina'].pct_change()\n",
        "df['variacao_etanol'] = df['preco_etanol'].pct_change()\n",
        "\n",
        "# Agrupando por estado e calcule a média\n",
        "df_grouped = df.groupby('Estado - Sigla')[['variacao_gasolina', 'variacao_etanol']].mean()\n",
        "\n",
        "# Criando um gráfico de barras para visualizar os resultados\n",
        "ax = df_grouped.plot(kind='bar', figsize=(10, 6))\n",
        "plt.title('Variação percentual dos preços da gasolina e do etanol')\n",
        "plt.ylabel('Variação percentual')\n",
        "plt.show()\n",
        "\n",
        "\n",
        "\n",
        "\n",
        "\n",
        "\n",
        "\n"
      ],
      "metadata": {
        "id": "QZU5vHx6YAWO"
      },
      "execution_count": null,
      "outputs": []
    },
    {
      "cell_type": "code",
      "source": [],
      "metadata": {
        "id": "qcjUzanAeJQ9"
      },
      "execution_count": null,
      "outputs": []
    },
    {
      "cell_type": "markdown",
      "source": [
        "#Informações Gerais do DataFrame:\n",
        "O DataFrame tem um total de 101.996 entradas (linhas). As colunas variam em termos de tipo de dados, incluindo principalmente objetos (strings) e um float64. Algumas colunas têm valores nulos, como \"Numero Rua\", \"Complemento\" e \"Bairro\". A coluna \"Valor de Compra\" parece ter todos os valores nulos. Possíveis Ações de Limpeza/Tratamento:\n",
        "\n",
        "Valores Nulos: Pode ser necessário lidar com os valores nulos nas colunas \"Numero Rua\", \"Complemento\" e \"Bairro\". Dependendo do contexto, você pode preencher os valores nulos com informações apropriadas ou remover as linhas. Coluna \"Valor de Compra\": A coluna \"Valor de Compra\" parece estar completamente vazia. Se não for necessária, você pode considerar removê-la. Tipos de Dados: A coluna \"Valor de Venda\" está atualmente como objeto. Se ela contiver informações numéricas, pode ser útil convertê-la para um tipo de dados numérico, como float. Data da Coleta: Se a coluna \"Data da Coleta\" estiver como objeto, você pode convertê-la para o tipo de dados de data para facilitar análises temporais."
      ],
      "metadata": {
        "id": "T7agWRVCDruh"
      }
    },
    {
      "cell_type": "code",
      "execution_count": null,
      "metadata": {
        "id": "5EFu2Q6aezBO"
      },
      "outputs": [],
      "source": [
        "import pandas as pd\n",
        "import numpy as np\n",
        "\n",
        "# Exemplo de dados (substitua isso pelos seus dados reais)\n",
        "data = {\n",
        "    'Estado': ['SP', 'RJ', 'MG', 'SP', 'RJ'],\n",
        "    'Municipio': ['São Paulo', 'Rio de Janeiro', 'Belo Horizonte', 'São Paulo', 'Rio de Janeiro'],\n",
        "    'Regiao': ['Sudeste', 'Sudeste', 'Sudeste', 'Sudeste', 'Sudeste'],\n",
        "    'Bandeira': ['Shell', 'Petrobras', 'Ipiranga', 'Shell', 'Petrobras'],\n",
        "    'Preco_Gasolina': [4.50, 4.60, 4.40, 4.55, 4.65],\n",
        "    'Preco_Etanol': [3.00, 3.10, 2.90, 3.05, 3.15]\n",
        "}\n",
        "\n",
        "# Criar o DataFrame\n",
        "df = pd.DataFrame(data)\n",
        "\n",
        "# Agora você pode usar o DataFrame 'df' nos cálculos e análises mencionados no código anterior.\n",
        "\n",
        "# Supondo que você tenha um DataFrame chamado 'df' com os dados dos combustíveis\n",
        "\n",
        "# 1. Tendência de queda ou aumento nos preços dos combustíveis\n",
        "tendencia_gasolina = df['Preco_Gasolina'].diff().mean()\n",
        "tendencia_etanol = df['Preco_Etanol'].diff().mean()\n",
        "\n",
        "# 2. Preço médio da gasolina e do etanol\n",
        "preco_medio_gasolina = df['Preco_Gasolina'].mean()\n",
        "preco_medio_etanol = df['Preco_Etanol'].mean()\n",
        "\n",
        "# 3. Os 5 estados com os preços médios mais altos\n",
        "estados_mais_caros_gasolina = df.groupby('Estado')['Preco_Gasolina'].mean().nlargest(5)\n",
        "estados_mais_caros_etanol = df.groupby('Estado')['Preco_Etanol'].mean().nlargest(5)\n",
        "\n",
        "# 4. Preço médio por estado\n",
        "preco_medio_por_estado = df.groupby('Estado')[['Preco_Gasolina', 'Preco_Etanol']].mean()\n",
        "\n",
        "# 5 e 6. Municípios com menor e maior preço\n",
        "municipio_menor_preco_gasolina = df.loc[df['Preco_Gasolina'].idxmin()]['Municipio']\n",
        "municipio_menor_preco_etanol = df.loc[df['Preco_Etanol'].idxmin()]['Municipio']\n",
        "municipio_maior_preco_gasolina = df.loc[df['Preco_Gasolina'].idxmax()]['Municipio']\n",
        "municipio_maior_preco_etanol = df.loc[df['Preco_Etanol'].idxmax()]['Municipio']\n",
        "\n",
        "# 7 e 8. Região com maior e menor valor médio\n",
        "regiao_maior_valor_gasolina = df.groupby('Regiao')['Preco_Gasolina'].mean().idxmax()\n",
        "regiao_menor_valor_etanol = df.groupby('Regiao')['Preco_Etanol'].mean().idxmin()\n",
        "\n",
        "# 9. Correlação entre preço e região\n",
        "correlacao_regiao_gasolina = df['Preco_Gasolina'].corr(df['Regiao'])\n",
        "correlacao_regiao_etanol = df['Preco_Etanol'].corr(df['Regiao'])\n",
        "\n",
        "# 10. Correlação entre preço e bandeira\n",
        "correlacao_bandeira_gasolina = df['Preco_Gasolina'].corr(df['Bandeira'])\n",
        "correlacao_bandeira_etanol = df['Preco_Etanol'].corr(df['Bandeira'])\n",
        "\n",
        "# Suas três perguntas adicionais aqui\n",
        "\n",
        "print(f\"1. Tendência de queda ou aumento nos preços da gasolina: {tendencia_gasolina}\")\n",
        "print(f\"   Tendência de queda ou aumento nos preços do etanol: {tendencia_etanol}\")\n",
        "print(f\"2. Preço médio da gasolina: {preco_medio_gasolina}\")\n",
        "print(f\"   Preço médio do etanol: {preco_medio_etanol}\")\n",
        "print(f\"3. Estados com os preços médios mais altos (gasolina): {estados_mais_caros_gasolina}\")\n",
        "print(f\"   Estados com os preços médios mais altos (etanol): {estados_mais_caros_etanol}\")\n",
        "print(f\"4. Preço médio por estado:\\n{preco_medio_por_estado}\")\n",
        "print(f\"5. Município com menor preço para gasolina: {municipio_menor_preco_gasolina}\")\n",
        "print(f\"   Município com menor preço para etanol: {municipio_menor_preco_etanol}\")\n",
        "print(f\"6. Município com maior preço para gasolina: {municipio_maior_preco_gasolina}\")\n",
        "print(f\"   Município com maior preço para etanol: {municipio_maior_preco_etanol}\")\n",
        "print(f\"7. Região com maior valor médio da gasolina: {regiao_maior_valor_gasolina}\")\n",
        "print(f\"8. Região com menor valor médio do etanol: {regiao_menor_valor_etanol}\")\n",
        "print(f\"9. Correlação entre preço e região (gasolina): {correlacao_regiao_gasolina}\")\n",
        "print(f\"   Correlação entre preço e região (etanol): {correlacao_regiao_etanol}\")\n",
        "print(f\"10. Correlação entre preço e bandeira (gasolina): {correlacao_bandeira_gasolina}\")\n",
        "print(f\"    Correlação entre preço e bandeira (etanol): {correlacao_bandeira_etanol}\")\n"
      ]
    },
    {
      "cell_type": "code",
      "execution_count": null,
      "metadata": {
        "id": "BQurnP995klD"
      },
      "outputs": [],
      "source": [
        "import pandas as pd\n",
        "import numpy as np\n",
        "\n",
        "\n",
        "data = {\n",
        "    'Estado': ['SP', 'RJ', 'MG', 'SP', 'RJ'],\n",
        "    'Municipio': ['São Paulo', 'Rio de Janeiro', 'Belo Horizonte', 'São Paulo', 'Rio de Janeiro'],\n",
        "    'Regiao': ['Sudeste', 'Sudeste', 'Sudeste', 'Sudeste', 'Sudeste'],\n",
        "    'Bandeira': ['Shell', 'Petrobras', 'Ipiranga', 'Shell', 'Petrobras'],\n",
        "    'Preco_Gasolina': [4.50, 4.60, 4.40, 4.55, 4.65],\n",
        "    'Preco_Etanol': [3.00, 3.10, 2.90, 3.05, 3.15]\n",
        "}\n",
        "\n",
        "\n",
        "df = pd.DataFrame(data)\n",
        "\n",
        "\n",
        "# 1. Tendência de queda ou aumento nos preços dos combustíveis\n",
        "tendencia_gasolina = df['Preco_Gasolina'].diff().mean()\n",
        "tendencia_etanol = df['Preco_Etanol'].diff().mean()\n",
        "\n",
        "# 2. Preço médio da gasolina e do etanol\n",
        "preco_medio_gasolina = df['Preco_Gasolina'].mean()\n",
        "preco_medio_etanol = df['Preco_Etanol'].mean()\n",
        "\n",
        "# 3. Os 5 estados com os preços médios mais altos\n",
        "estados_mais_caros_gasolina = df.groupby('Estado')['Preco_Gasolina'].mean().nlargest(5)\n",
        "estados_mais_caros_etanol = df.groupby('Estado')['Preco_Etanol'].mean().nlargest(5)\n",
        "\n",
        "# 4. Preço médio por estado\n",
        "preco_medio_por_estado = df.groupby('Estado')[['Preco_Gasolina', 'Preco_Etanol']].mean()\n",
        "\n",
        "# 5 e 6. Municípios com menor e maior preço\n",
        "municipio_menor_preco_gasolina = df.loc[df['Preco_Gasolina'].idxmin()]['Municipio']\n",
        "municipio_menor_preco_etanol = df.loc[df['Preco_Etanol'].idxmin()]['Municipio']\n",
        "municipio_maior_preco_gasolina = df.loc[df['Preco_Gasolina'].idxmax()]['Municipio']\n",
        "municipio_maior_preco_etanol = df.loc[df['Preco_Etanol'].idxmax()]['Municipio']\n",
        "\n",
        "# 7 e 8. Região com maior e menor valor médio\n",
        "regiao_maior_valor_gasolina = df.groupby('Regiao')['Preco_Gasolina'].mean().idxmax()\n",
        "regiao_menor_valor_etanol = df.groupby('Regiao')['Preco_Etanol'].mean().idxmin()\n",
        "\n",
        "print(f\"1. Tendência de queda ou aumento nos preços da gasolina: {tendencia_gasolina}\")\n",
        "print(f\"   Tendência de queda ou aumento nos preços do etanol: {tendencia_etanol}\")\n",
        "print(f\"2. Preço médio da gasolina: {preco_medio_gasolina}\")\n",
        "print(f\"   Preço médio do etanol: {preco_medio_etanol}\")\n",
        "print(f\"3. Estados com os preços médios mais altos (gasolina): {estados_mais_caros_gasolina}\")\n",
        "print(f\"   Estados com os preços médios mais altos (etanol): {estados_mais_caros_etanol}\")\n",
        "print(f\"4. Preço médio por estado:\\n{preco_medio_por_estado}\")\n",
        "print(f\"5. Município com menor preço para gasolina: {municipio_menor_preco_gasolina}\")\n",
        "print(f\"   Município com menor preço para etanol: {municipio_menor_preco_etanol}\")\n",
        "print(f\"6. Município com maior preço para gasolina: {municipio_maior_preco_gasolina}\")\n",
        "print(f\"   Município com maior preço para etanol: {municipio_maior_preco_etanol}\")\n",
        "print(f\"7. Região com maior valor médio da gasolina: {regiao_maior_valor_gasolina}\")\n",
        "print(f\"8. Região com menor valor médio do etanol: {regiao_menor_valor_etanol}\")"
      ]
    }
  ],
  "metadata": {
    "accelerator": "GPU",
    "colab": {
      "provenance": [],
      "collapsed_sections": [
        "uqrDo73lpHxi",
        "HBbs-C8rpMQR",
        "3Rd83vk8eRaV",
        "e_8Gt-nDCRJJ",
        "btluTwk-C2O7",
        "lKf5AKkwLVmT",
        "Qghz8DjTLf_7",
        "2vPVjiSUaQNn",
        "T7agWRVCDruh"
      ],
      "include_colab_link": true
    },
    "kernelspec": {
      "display_name": "Python 3",
      "name": "python3"
    },
    "language_info": {
      "name": "python"
    }
  },
  "nbformat": 4,
  "nbformat_minor": 0
}